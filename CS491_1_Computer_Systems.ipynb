{
  "nbformat": 4,
  "nbformat_minor": 0,
  "metadata": {
    "colab": {
      "provenance": [],
      "include_colab_link": true
    },
    "kernelspec": {
      "name": "python3",
      "display_name": "Python 3"
    },
    "language_info": {
      "name": "python"
    }
  },
  "cells": [
    {
      "cell_type": "markdown",
      "metadata": {
        "id": "view-in-github",
        "colab_type": "text"
      },
      "source": [
        "<a href=\"https://colab.research.google.com/github/daling2025/CS_study/blob/main/CS491_1_Computer_Systems.ipynb\" target=\"_parent\"><img src=\"https://colab.research.google.com/assets/colab-badge.svg\" alt=\"Open In Colab\"/></a>"
      ]
    },
    {
      "cell_type": "markdown",
      "metadata": {
        "id": "twIIAUXz3s4M"
      },
      "source": [
        "# CS 491: Excursions in Computing I\n",
        "## Hands-On Activity #1: Computer Systems\n",
        "\n",
        "### 9/5/2025\n",
        "\n",
        "\n",
        "\n"
      ]
    },
    {
      "cell_type": "markdown",
      "source": [
        "# $\\color{blue}{\\text {1. Please Read Before You Begin}}$"
      ],
      "metadata": {
        "id": "sxOUO-4FqRLr"
      }
    },
    {
      "cell_type": "markdown",
      "source": [],
      "metadata": {
        "id": "HwO9_CspECgz"
      }
    },
    {
      "cell_type": "markdown",
      "source": [
        "## 1.1 Save a copy of this notebook."
      ],
      "metadata": {
        "id": "GT6bt-a1YfB6"
      }
    },
    {
      "cell_type": "markdown",
      "source": [
        "Save a copy of this notebook to your Google Drive so that your work will be saved. To do this, use the following command.\n",
        "\n",
        "* File -> Save a copy in Drive"
      ],
      "metadata": {
        "id": "87Q1sC8HYPFt"
      }
    },
    {
      "cell_type": "markdown",
      "source": [
        "##1.2 Decide on Group Roles"
      ],
      "metadata": {
        "id": "Qc7f5Gvsv6jZ"
      }
    },
    {
      "cell_type": "markdown",
      "source": [
        "Decide on the team's Facilitator and Presenter. All team members will be Recorders."
      ],
      "metadata": {
        "id": "CsB5pAzxqRL4"
      }
    },
    {
      "cell_type": "markdown",
      "source": [
        "- A **Facilitator** keeps track of time and makes sure all group members are contributing. The **Facilitator** may also share their screen and/or ask team members to share their screen to discuss coding solutions.\n",
        "- A **Presenter** serves as the team representative when speaking to the instructor, TA, and other teams.\n",
        "- A **Recorder** records the results of this worksheet. For this worksheet, all team members will be writing code in Google Colab to solve the worksheet questions."
      ],
      "metadata": {
        "id": "HTRRXvLAqRL4"
      }
    },
    {
      "cell_type": "markdown",
      "source": [
        "## 1.3 Share the Top 3 Things You've Learned as a Group with the Class"
      ],
      "metadata": {
        "id": "V1pdnFKzqRL4"
      }
    },
    {
      "cell_type": "markdown",
      "source": [
        "Use the following document to **share the top 3 things you've learned as a group**.\n",
        "\n",
        "- https://docs.google.com/presentation/d/1zNdJ4WszpMWd8MIUMyQWjndjwcSdAvYNcKO1HYX0W3U/edit?usp=sharing\n"
      ],
      "metadata": {
        "id": "sBf24hilqRL4"
      }
    },
    {
      "cell_type": "markdown",
      "metadata": {
        "id": "IMP6zy7-_iA3"
      },
      "source": [
        "# 2 Introduction"
      ]
    },
    {
      "cell_type": "markdown",
      "metadata": {
        "id": "sU32xdf1_ma6"
      },
      "source": [
        "Knowledge of your system's hardware specifications is important because it determines whether your computer supports certain software programs and video games. If you would like to upgrade your computer, it's crucial to know what kind of hardware you currently have so that you can determine which parts to upgrade depending on your needs."
      ]
    },
    {
      "cell_type": "markdown",
      "metadata": {
        "id": "AD8o9MYUDCPm"
      },
      "source": [
        "## 2.1 What do modern computer systems look like?"
      ]
    },
    {
      "cell_type": "markdown",
      "metadata": {
        "id": "27W-ZXnSCrmX"
      },
      "source": [
        "![picture](https://drive.google.com/uc?id=162HvSdi3Ady9R84R3OTB8aBHVN4ppjO8)\n",
        "\n",
        "\n",
        "Figure 1. Common computer systems: a desktop (left) and a laptop (right) computer. *Source: https://diveintosystems.org*"
      ]
    },
    {
      "cell_type": "markdown",
      "source": [
        "## 2.2 Framework Laptops\n",
        "\n",
        "High-performance laptops that are upgradeable and repairable.\n",
        "\n",
        "An example: Framework DIY 13 laptop\n",
        "* https://frame.work/laptop13\n",
        "\n",
        "\n",
        "![picture](https://drive.google.com/uc?id=1AatRI1islWHWg8cJyEVgAHrIWT1H_3dB)\n",
        "\n",
        "\n"
      ],
      "metadata": {
        "id": "fW6wW9pwtVrm"
      }
    },
    {
      "cell_type": "markdown",
      "metadata": {
        "id": "lDKyxx7lAfod"
      },
      "source": [
        "## 2.2 What is a computer system?"
      ]
    },
    {
      "cell_type": "markdown",
      "metadata": {
        "id": "QsJjLTudAduw"
      },
      "source": [
        "A computer system combines the computer hardware and special system software that together make the computer usable by users and programs.  More specifically, a computer system has the following components:\n",
        "\n",
        "* **Input/output (IO) ports** that enable the computer to take information from its environment and display it back to the user in some meaningful way.\n",
        "\n",
        "* A **central processing unit (CPU)** that runs instructions and computes data and memory addresses.\n",
        "\n",
        "* **Random access memory (RAM)** that stores the data and instructions of running programs. The data and instructions in RAM are typically lost when the computer system loses power.\n",
        "\n",
        "* **Secondary storage devices** such as hard disks that can store programs and data even when power is not actively being provided to the computer.\n",
        "\n",
        "* An **operating system (OS)** software layer that lies between the hardware of the computer and the software that a user runs on the computer. The OS implements programming abstractions and interfaces that enable users to easily run and interact with programs on the system. It also manages the underlying hardware resources and controls how and when programs execute.\n",
        "\n",
        "\n",
        "The figure below illustrates the relationship between the components of a computer system.\n",
        "\n",
        "![picture](https://drive.google.com/uc?id=1ocMshFDq_7THVZxf_HNvtyyqirx-23Vg)\n",
        "\n",
        "Figure 2. The layered components of a computer system. *Source: https://diveintosystems.org*"
      ]
    },
    {
      "cell_type": "markdown",
      "metadata": {
        "id": "Z-WRe6u0QUwU"
      },
      "source": [
        "# 3 Computer System Specifications"
      ]
    },
    {
      "cell_type": "markdown",
      "metadata": {
        "id": "5TWKOr1jjpNa"
      },
      "source": [
        "## 3.1 Your Computer Specs"
      ]
    },
    {
      "cell_type": "markdown",
      "metadata": {
        "id": "4Vt9UM1VUGGd"
      },
      "source": [
        "Give the following specs for your computer system.\n",
        "\n",
        "* CPU/Processor (model and speed)\n",
        "* Number of processors\n",
        "* Number of cores\n",
        "* Memory (RAM) size\n",
        "* Cache sizes (L1, L2, and L3)\n",
        "* Storage (disk) size\n",
        "* Computer name\n",
        "\n",
        "Helpful links for finding the specs of your computer.\n",
        "* **Windows 10:** https://www.groovypost.com/howto/find-your-windows-10-computers-hardware-and-system-specs/\n",
        "* **Windows 11:** https://pureinfotech.com/find-computer-specs-windows-11/\n",
        "* **Mac:** https://support.apple.com/en-us/HT203001\n"
      ]
    },
    {
      "cell_type": "markdown",
      "metadata": {
        "id": "mpfCHDarkgvY"
      },
      "source": [
        "## 3.2 Your Team's Computer Specs"
      ]
    },
    {
      "cell_type": "markdown",
      "metadata": {
        "id": "9-u-O4ATju7s"
      },
      "source": [
        "* How do your computer specs compare to the computer specs of your team members?\n",
        "\n",
        "* Which team member(s) has the \"best\" computer? Be sure to define your definition of best."
      ]
    },
    {
      "cell_type": "markdown",
      "metadata": {
        "id": "oAa_v84nQjvv"
      },
      "source": [
        "# 4 Specs for Google Colab machine"
      ]
    },
    {
      "cell_type": "markdown",
      "metadata": {
        "id": "TpMfCKIGmmv9"
      },
      "source": [
        "## 4.1 Colab is more than Python\n",
        "\n",
        "Google Colab offers a bit more than running Python codes. Since Google Colab uses the Linux operating system, we can execute Linux commands to perform system commands.   \n",
        "\n",
        "Since Google Colab uses the bash shell called Bash, Linux commands can be run by prefixing the command with `!`. We'll see how to run such commands in the following sections."
      ]
    },
    {
      "cell_type": "markdown",
      "metadata": {
        "id": "jYommUtlkAhr"
      },
      "source": [
        "## 4.2 Operating system"
      ]
    },
    {
      "cell_type": "markdown",
      "metadata": {
        "id": "iYZkFUIdgJVR"
      },
      "source": [
        "Google Colab machines use the Ubuntu Linux operating system. You can verify the OS by executing the following command in a code cell.\n",
        "\n",
        "\n"
      ]
    },
    {
      "cell_type": "code",
      "metadata": {
        "id": "EReHxFL3kWvV",
        "colab": {
          "base_uri": "https://localhost:8080/"
        },
        "outputId": "eb22a1d0-2921-4287-aae5-6ca052c9ff60"
      },
      "source": [
        "!cat /etc/os-release"
      ],
      "execution_count": null,
      "outputs": [
        {
          "output_type": "stream",
          "name": "stdout",
          "text": [
            "PRETTY_NAME=\"Ubuntu 22.04.4 LTS\"\n",
            "NAME=\"Ubuntu\"\n",
            "VERSION_ID=\"22.04\"\n",
            "VERSION=\"22.04.4 LTS (Jammy Jellyfish)\"\n",
            "VERSION_CODENAME=jammy\n",
            "ID=ubuntu\n",
            "ID_LIKE=debian\n",
            "HOME_URL=\"https://www.ubuntu.com/\"\n",
            "SUPPORT_URL=\"https://help.ubuntu.com/\"\n",
            "BUG_REPORT_URL=\"https://bugs.launchpad.net/ubuntu/\"\n",
            "PRIVACY_POLICY_URL=\"https://www.ubuntu.com/legal/terms-and-policies/privacy-policy\"\n",
            "UBUNTU_CODENAME=jammy\n"
          ]
        }
      ]
    },
    {
      "cell_type": "markdown",
      "metadata": {
        "id": "NF0gNDx2SRTP"
      },
      "source": [
        "## 4.3 CPU-related information\n",
        "\n",
        "Run the following command to get CPU-related information of your Colab machine."
      ]
    },
    {
      "cell_type": "code",
      "metadata": {
        "id": "je0vSEo0kaA2",
        "colab": {
          "base_uri": "https://localhost:8080/"
        },
        "outputId": "ccb842cc-f6d7-4f22-8241-b6c96331960f"
      },
      "source": [
        "!lscpu"
      ],
      "execution_count": null,
      "outputs": [
        {
          "output_type": "stream",
          "name": "stdout",
          "text": [
            "Architecture:             x86_64\n",
            "  CPU op-mode(s):         32-bit, 64-bit\n",
            "  Address sizes:          46 bits physical, 48 bits virtual\n",
            "  Byte Order:             Little Endian\n",
            "CPU(s):                   2\n",
            "  On-line CPU(s) list:    0,1\n",
            "Vendor ID:                GenuineIntel\n",
            "  Model name:             Intel(R) Xeon(R) CPU @ 2.20GHz\n",
            "    CPU family:           6\n",
            "    Model:                79\n",
            "    Thread(s) per core:   2\n",
            "    Core(s) per socket:   1\n",
            "    Socket(s):            1\n",
            "    Stepping:             0\n",
            "    BogoMIPS:             4399.99\n",
            "    Flags:                fpu vme de pse tsc msr pae mce cx8 apic sep mtrr pge m\n",
            "                          ca cmov pat pse36 clflush mmx fxsr sse sse2 ss ht sysc\n",
            "                          all nx pdpe1gb rdtscp lm constant_tsc rep_good nopl xt\n",
            "                          opology nonstop_tsc cpuid tsc_known_freq pni pclmulqdq\n",
            "                           ssse3 fma cx16 pcid sse4_1 sse4_2 x2apic movbe popcnt\n",
            "                           aes xsave avx f16c rdrand hypervisor lahf_lm abm 3dno\n",
            "                          wprefetch invpcid_single ssbd ibrs ibpb stibp fsgsbase\n",
            "                           tsc_adjust bmi1 hle avx2 smep bmi2 erms invpcid rtm r\n",
            "                          dseed adx smap xsaveopt arat md_clear arch_capabilitie\n",
            "                          s\n",
            "Virtualization features:  \n",
            "  Hypervisor vendor:      KVM\n",
            "  Virtualization type:    full\n",
            "Caches (sum of all):      \n",
            "  L1d:                    32 KiB (1 instance)\n",
            "  L1i:                    32 KiB (1 instance)\n",
            "  L2:                     256 KiB (1 instance)\n",
            "  L3:                     55 MiB (1 instance)\n",
            "NUMA:                     \n",
            "  NUMA node(s):           1\n",
            "  NUMA node0 CPU(s):      0,1\n",
            "Vulnerabilities:          \n",
            "  Gather data sampling:   Not affected\n",
            "  Itlb multihit:          Not affected\n",
            "  L1tf:                   Mitigation; PTE Inversion\n",
            "  Mds:                    Vulnerable; SMT Host state unknown\n",
            "  Meltdown:               Vulnerable\n",
            "  Mmio stale data:        Vulnerable\n",
            "  Reg file data sampling: Not affected\n",
            "  Retbleed:               Vulnerable\n",
            "  Spec rstack overflow:   Not affected\n",
            "  Spec store bypass:      Vulnerable\n",
            "  Spectre v1:             Vulnerable: __user pointer sanitization and usercopy b\n",
            "                          arriers only; no swapgs barriers\n",
            "  Spectre v2:             Vulnerable; IBPB: disabled; STIBP: disabled; PBRSB-eIB\n",
            "                          RS: Not affected; BHI: Vulnerable\n",
            "  Srbds:                  Not affected\n",
            "  Tsx async abort:        Vulnerable\n"
          ]
        }
      ]
    },
    {
      "cell_type": "markdown",
      "source": [
        "The `lscpu` command gives you a detailed overview of your computer's processor information and its various units. Some of the important information displayed by the `lscpu` command includes the CPU vendor information, processor architecture, virtualization capabilities of the CPU, and the number of cores your processor has."
      ],
      "metadata": {
        "id": "TMbiCbwmmEJM"
      }
    },
    {
      "cell_type": "markdown",
      "metadata": {
        "id": "OGGuCAG6hS2g"
      },
      "source": [
        "## 4.4 Memory specs\n",
        "\n",
        "Run the following command:"
      ]
    },
    {
      "cell_type": "code",
      "metadata": {
        "id": "iTsZ-Ai_kbXi",
        "colab": {
          "base_uri": "https://localhost:8080/"
        },
        "outputId": "14721263-f636-428f-a13a-5bb1256109b7"
      },
      "source": [
        "!free -h"
      ],
      "execution_count": null,
      "outputs": [
        {
          "output_type": "stream",
          "name": "stdout",
          "text": [
            "               total        used        free      shared  buff/cache   available\n",
            "Mem:            12Gi       756Mi       9.2Gi       1.0Mi       2.8Gi        11Gi\n",
            "Swap:             0B          0B          0B\n"
          ]
        }
      ]
    },
    {
      "cell_type": "markdown",
      "source": [
        "\n",
        "The `free` command shows the amount of memory available on your system and the amount currently in use. The `-h` option presents the data in a more human-readable format.\n",
        "\n",
        "In addition to the memory in use, the output will also show you information related to swap space on your system. Swap space in Linux acts as an extension to your RAM."
      ],
      "metadata": {
        "id": "cS5tFh-2mTYL"
      }
    },
    {
      "cell_type": "markdown",
      "metadata": {
        "id": "j0iwvUp3iZG8"
      },
      "source": [
        "## 4.5 Hard disk specs"
      ]
    },
    {
      "cell_type": "markdown",
      "metadata": {
        "id": "kwgjxPScigq_"
      },
      "source": [
        "\n",
        "Run the following command:"
      ]
    },
    {
      "cell_type": "code",
      "metadata": {
        "id": "JihqroaJYzyb",
        "colab": {
          "base_uri": "https://localhost:8080/"
        },
        "outputId": "916c66c1-ec4f-4c54-a55b-ed7526462a43"
      },
      "source": [
        "!df -h"
      ],
      "execution_count": null,
      "outputs": [
        {
          "output_type": "stream",
          "name": "stdout",
          "text": [
            "Filesystem      Size  Used Avail Use% Mounted on\n",
            "overlay         108G   40G   69G  37% /\n",
            "tmpfs            64M     0   64M   0% /dev\n",
            "shm             5.8G     0  5.8G   0% /dev/shm\n",
            "/dev/root       2.0G  1.2G  775M  61% /usr/sbin/docker-init\n",
            "tmpfs           6.4G   64K  6.4G   1% /var/colab\n",
            "/dev/sda1        73G   40G   33G  56% /kaggle/input\n",
            "tmpfs           6.4G     0  6.4G   0% /proc/acpi\n",
            "tmpfs           6.4G     0  6.4G   0% /proc/scsi\n",
            "tmpfs           6.4G     0  6.4G   0% /sys/firmware\n"
          ]
        }
      ]
    },
    {
      "cell_type": "markdown",
      "source": [
        "\n",
        "The `df` command shows the current disk usage, including the number of partitions and free disk space available. The total disk space available is represented by the root or `/` partition."
      ],
      "metadata": {
        "id": "FiLwAmmGmc8-"
      }
    },
    {
      "cell_type": "markdown",
      "metadata": {
        "id": "x744s0OG42ea"
      },
      "source": [
        "## 4.6 Provide the Google Colab specs"
      ]
    },
    {
      "cell_type": "markdown",
      "metadata": {
        "id": "jjRIuwcfa1wu"
      },
      "source": [
        "Based on the results of the above commands, give the following specs for your Google Colab computer system.\n",
        "\n",
        "* CPU/Processor (model and speed)\n",
        "* Number of processors\n",
        "* Number of cores\n",
        "* Memory (RAM) size\n",
        "* Cache sizes (L1, L2, and L3)\n",
        "* Storage (disk) size"
      ]
    },
    {
      "cell_type": "markdown",
      "source": [
        "# 5 Your Computer vs Google Colab machine"
      ],
      "metadata": {
        "id": "szmDsvPDvjsK"
      }
    },
    {
      "cell_type": "markdown",
      "source": [
        "How do the specs of your computer (from Section 2.1) compare to the specs for your Google Colab machine (from Section 3.6)? Which machine is better, your computer or Google Colab machine? Be sure to define your definition of \"better\"."
      ],
      "metadata": {
        "id": "oxFlZzvBvttO"
      }
    },
    {
      "cell_type": "markdown",
      "metadata": {
        "id": "Kn-ZRazElwsw"
      },
      "source": [
        "# 6 Google Drive and Google Colab"
      ]
    },
    {
      "cell_type": "markdown",
      "metadata": {
        "id": "7UrEuZkbuzP_"
      },
      "source": [
        "\n",
        "\n",
        "Let's connect Google Drive to Google Colab."
      ]
    },
    {
      "cell_type": "markdown",
      "metadata": {
        "id": "9_Y4RAUYup4L"
      },
      "source": [
        "## 6.1 Mount Google Drive to Google Colab"
      ]
    },
    {
      "cell_type": "markdown",
      "metadata": {
        "id": "my1v9dDZmafF"
      },
      "source": [
        "To mount your Google Drive so that Google Colab can use it, run the code below and follow the instructions."
      ]
    },
    {
      "cell_type": "code",
      "metadata": {
        "id": "ZIbFh6CumNyj",
        "colab": {
          "base_uri": "https://localhost:8080/"
        },
        "outputId": "1c85b428-8c75-4a4d-8cb3-9a79d8a21cdc"
      },
      "source": [
        "from google.colab import drive\n",
        "drive.mount('/content/gdrive')"
      ],
      "execution_count": null,
      "outputs": [
        {
          "output_type": "stream",
          "name": "stdout",
          "text": [
            "Mounted at /content/gdrive\n"
          ]
        }
      ]
    },
    {
      "cell_type": "markdown",
      "source": [
        "It may take a few moments for the code above to complete execution. If the code executes successfully, there will be a message that says `Mounted at /content/gdrive`."
      ],
      "metadata": {
        "id": "SjwjKhyTmznG"
      }
    },
    {
      "cell_type": "markdown",
      "source": [
        "## 6.2 View Your Google Drive\n",
        "\n",
        "Click the following link to see contents of your Google Drive in Colab.\n",
        "\n",
        "`/content/gdrive`\n",
        "\n",
        "Click on the **MyDrive** folder to explore what's on your Google Drive."
      ],
      "metadata": {
        "id": "x9dOk9Auyfov"
      }
    },
    {
      "cell_type": "markdown",
      "metadata": {
        "id": "1vNBFqU9s2CX"
      },
      "source": [
        "## 6.3 Available and used space on Google Drive"
      ]
    },
    {
      "cell_type": "markdown",
      "metadata": {
        "id": "RIHRzaMm2Njh"
      },
      "source": [
        "Next, see how much space you have on your Google Drive using the following command."
      ]
    },
    {
      "cell_type": "code",
      "metadata": {
        "id": "kWE3GJk5mtSv"
      },
      "source": [
        "!df -h"
      ],
      "execution_count": null,
      "outputs": []
    },
    {
      "cell_type": "markdown",
      "metadata": {
        "id": "-7U-9FDb85tK"
      },
      "source": [
        "You will see several lines of output.\n",
        "1. Find the column ```Mounted on``` in the first row of output.\n",
        "2. Within that column, find the row that shows ```/content/gdrive```.\n",
        "\n",
        "Based on the row you found in step 2, how much space is used and available on your Google Drive?\n"
      ]
    },
    {
      "cell_type": "markdown",
      "metadata": {
        "id": "hwwxc_B9szlC"
      },
      "source": [
        "# 7 Change Colab's current working directory\n",
        "\n",
        "In this section, the terms *directory* and *folder* are used interchangeably."
      ]
    },
    {
      "cell_type": "markdown",
      "metadata": {
        "id": "n9AhHQcWtNTQ"
      },
      "source": [
        "## 7.1. To see the current working directory (or folder) that is being used by Google Colab, run the following command."
      ]
    },
    {
      "cell_type": "code",
      "metadata": {
        "id": "6pBAZBPwtUO1",
        "colab": {
          "base_uri": "https://localhost:8080/"
        },
        "outputId": "d4c0a71c-68f5-4781-a07f-abbd94f20b93"
      },
      "source": [
        "!pwd"
      ],
      "execution_count": null,
      "outputs": [
        {
          "output_type": "stream",
          "name": "stdout",
          "text": [
            "/content\n"
          ]
        }
      ]
    },
    {
      "cell_type": "markdown",
      "source": [
        "`pwd` stands for print working directory"
      ],
      "metadata": {
        "id": "oAqZtwvFnF0_"
      }
    },
    {
      "cell_type": "markdown",
      "metadata": {
        "id": "fwWievkstX-j"
      },
      "source": [
        "## 7.2 To change the current working directory to your Google Drive, execute the following code."
      ]
    },
    {
      "cell_type": "markdown",
      "source": [
        "Let's import the `os` module in Python which gives us access functions for interacting with the operating system. In this case, we'll be interacting with Google Colab's Linux operating system."
      ],
      "metadata": {
        "id": "GscG1x0KLECT"
      }
    },
    {
      "cell_type": "code",
      "source": [
        "import os"
      ],
      "metadata": {
        "id": "kP7HHKxkLCbX"
      },
      "execution_count": null,
      "outputs": []
    },
    {
      "cell_type": "markdown",
      "source": [
        "Let's change the directory to the `My Drive` directory in Google Drive."
      ],
      "metadata": {
        "id": "kcmEtflELhFk"
      }
    },
    {
      "cell_type": "code",
      "metadata": {
        "id": "CI_OLSHNnUfH"
      },
      "source": [
        "os.chdir(\"/content/gdrive/My Drive/\")"
      ],
      "execution_count": null,
      "outputs": []
    },
    {
      "cell_type": "markdown",
      "source": [
        "Run the following command to check our current working directory."
      ],
      "metadata": {
        "id": "Sx8Iv_BcMRae"
      }
    },
    {
      "cell_type": "code",
      "metadata": {
        "id": "-_2toVKguia5",
        "colab": {
          "base_uri": "https://localhost:8080/"
        },
        "outputId": "bca2c053-b06d-47d9-c4b2-a3f88609a45d"
      },
      "source": [
        "!pwd"
      ],
      "execution_count": null,
      "outputs": [
        {
          "output_type": "stream",
          "name": "stdout",
          "text": [
            "/content/gdrive/My Drive\n"
          ]
        }
      ]
    },
    {
      "cell_type": "markdown",
      "metadata": {
        "id": "4slS6UbyueIf"
      },
      "source": [
        "If you changed the directory successfully, you should now see that you are in the main directory <a> /content/gdrive/My Drive/</a> on your Google Drive.\n"
      ]
    },
    {
      "cell_type": "markdown",
      "metadata": {
        "id": "0YbW-sfCtyLn"
      },
      "source": [
        "To list the contents of the current working directory on your Google Drive, use the `!ls` command."
      ]
    },
    {
      "cell_type": "code",
      "metadata": {
        "id": "FS1T3y5wnJLt",
        "colab": {
          "base_uri": "https://localhost:8080/"
        },
        "outputId": "5dcf5037-284e-41c2-fdb5-dcad26adbbed"
      },
      "source": [
        "!ls"
      ],
      "execution_count": null,
      "outputs": [
        {
          "output_type": "stream",
          "name": "stdout",
          "text": [
            " 2015-7真题.pdf\n",
            " 2015-7答案.pdf\n",
            " 2015年7月.mp3\n",
            "'2020 fall申请'\n",
            "'2025 fall CS application'\n",
            "'2 yr I20_Ling_Da.pdf'\n",
            "'8.27 FALL 2021 MA ORIENTATION PROGRAM.pdf'\n",
            " 9-16.SzondiHermeneutics.pdf\n",
            "'cfau transcript (Chinese ver).pdf'\n",
            " cjl资料\n",
            " Classroom\n",
            "'Colab Notebooks'\n",
            "'CS400 notes.gslides'\n",
            "'CS 401 notes.gslides'\n",
            "'CU Blouder CS program.gdoc'\n",
            "'da content resume 2025.1.pdf'\n",
            "'da content resume.pdf'\n",
            "'Da Ling Contractor Verification Letter.doc'\n",
            "'Da Ling resume 7.20 business+mkt.docx'\n",
            "'Da Ling video edit'\n",
            "'da ling 毕业照'\n",
            "'Da resume for CS application.gdoc'\n",
            " everything.zip\n",
            "'federal 2021（拖移项目）.pdf'\n",
            "'federal 2022（拖移项目）.pdf'\n",
            "'Fundamantal Math for Data Science - Notes.gslides'\n",
            "'Growth Mindset GA Case Study #1（副本）.gdoc'\n",
            "'Growth Mindset GA Case Study #2（副本）.gdoc'\n",
            "'How Fascism Works (Jason Stanley [Stanley, Jason]) (Z-Library).epub'\n",
            "'How Well Do You Follow Directions?（副本）.gdoc'\n",
            " i94.pdf\n",
            " insurance\n",
            "'Japanese Art After 1945 Scream Against the Sky.pdf'\n",
            " Japanese_Interpreter_Questionnaire.xlsx\n",
            " Japaneseness.png\n",
            "'Jaspers.The Idea of the University.excerpts.pdf'\n",
            "'job search.gsheet'\n",
            "'LCI Inspection Consent Form.pdf'\n",
            " Lease.pdf\n",
            "'Ling Da letter MPhil Japan.pdf'\n",
            " Ling_Da.pdf\n",
            "'literary critique question list.gdoc'\n",
            "'Modern Korean Buddhism from Sri Lanka to Japan'\n",
            "'My Disneyland Tickets and Passes.pdf'\n",
            "'opt & job search'\n",
            "'passport new.pdf'\n",
            "'Passport new.pdf'\n",
            "'PhD application'\n",
            " PXL_20220221_011333570.jpg\n",
            "'quiz 3 11.17.2020.docx'\n",
            "'Reporte Pre registro.pdf'\n",
            "'Research Proposal: Mizoguchi Kenji’s Japaneseness.gdoc'\n",
            "'Schleiermacher’s Hermeneutics Today.pptx'\n",
            " spotify.apk\n",
            "'start-ups in CA.gsheet'\n",
            " tari.png\n",
            " tax\n",
            "'The Grinding Ear - Endless Dream Tide'\n",
            "'The Grinding Ear - The Raining Universe'\n",
            "'The Life of the Mind (Hannah Arendt) (Z-Library).epub'\n",
            "'The Pre-modern Others’ Unhistorical Sense of Time(darft 1).docx'\n",
            " Weathering_wei_zhao.docx\n",
            "'Which Connections Really Help You Find a Job.PDF.gdoc'\n",
            "'Worksheet #1.docx（daling副本）.docx'\n",
            "'yale diploma.pdf'\n",
            "'yale health id.pdf'\n",
            "'Yale transcript(2 yrs).pdf'\n",
            "'Zertifikate - digital (German A1).pdf'\n",
            "'z lib.apk'\n",
            " レポート作成.pdf\n",
            " 万葉集　翻訳.docx\n",
            " 乔乔咨询.gdoc\n",
            " 五条人访谈提纲.gdoc\n",
            " 仓鼠教bible.gdoc\n",
            " 何为动漫研究.key\n",
            "'凌达 文艺美学论文.docx'\n",
            " 合同.pdf\n",
            "'如何在 Chrome   Edge   Firefox 配置 Proxy SwitchyOmega 扩展 - 帮助中心 - 一枝红杏'\n",
            " 学术类书籍\n",
            " 学术类文件（散）\n",
            " 安装教程\n",
            "'屏幕快照 2021-02-28 下午9.43.40.png'\n",
            "'屏幕快照 2021-03-03 下午10.52.10.png'\n",
            " 战斗美少女的精神分析（有水印）.pdf\n",
            "'數字極權時代生存手記 3.0 - reconsidera.pdf'\n",
            "'无标题文档 (1).gdoc'\n",
            " 无标题文档.gdoc\n",
            " 日本战后文学\n",
            " 本科毕业论文参考文献\n",
            " 泰国景点整理.pages\n",
            " 泰国行程.numbers\n",
            " 火狐浏览器-图书馆联盟下载技术.docx.docx\n",
            " 笔记3_1.png\n",
            " 签证\n",
            " 综合日语\n",
            " 读书会往期推文\n",
            " 身份\n",
            " 选题列表.gsheet\n",
            " 遗传性乳腺癌基因.pdf\n",
            " 采访\n",
            " 面膜测评.gdoc\n"
          ]
        }
      ]
    },
    {
      "cell_type": "markdown",
      "source": [
        "## 7.3 Change to Different Directory"
      ],
      "metadata": {
        "id": "yMZFBhhjo-qg"
      }
    },
    {
      "cell_type": "markdown",
      "metadata": {
        "id": "1YURnW0-wQo0"
      },
      "source": [
        "To change to a different directory in your Google Drive, use the following command template,\n",
        "\n",
        "\n",
        "os.chdir(<a>\"/content/gdrive/My Drive/your_directory\"</a>) </a>\n",
        "\n",
        "where you will change **`your_directory`** with an actual name of a directory in your Google Drive.\n",
        "\n",
        "**Example.** Suppose you have a directory in Google Drive called `Documents`, then the command to go to that directory would be:\n",
        "\n",
        "\n",
        "os.chdir(<a>\"/content/gdrive/My Drive/Documents\"</a>)\n"
      ]
    },
    {
      "cell_type": "markdown",
      "source": [
        "In the code cell below write the command to change to a Google Drive directory of your choice."
      ],
      "metadata": {
        "id": "l9yUcNwC-O33"
      }
    },
    {
      "cell_type": "code",
      "metadata": {
        "id": "IYmkTDCco8xF"
      },
      "source": [],
      "execution_count": null,
      "outputs": []
    },
    {
      "cell_type": "markdown",
      "source": [
        "\n",
        "**Note:** If you do not have any directories in Google Drive, create a new folder in your Google Drive. Once you do that, use the above command to change to that folder (or directory).\n",
        "\n",
        "You can access your Google Drive via the web interface to create new directories or folders as well as to browse the contents of your Google Drive.\n",
        "\n",
        "- https://workspace.google.com/products/drive/"
      ],
      "metadata": {
        "id": "3eNcIbWonog6"
      }
    },
    {
      "cell_type": "markdown",
      "source": [
        "Run the `pwd` command to check\n",
        "whether you have changed your Google Drive directory as intended."
      ],
      "metadata": {
        "id": "0CG_bMOM-lIY"
      }
    },
    {
      "cell_type": "code",
      "source": [
        "!pwd"
      ],
      "metadata": {
        "id": "LvGnkXDw-uF5",
        "colab": {
          "base_uri": "https://localhost:8080/"
        },
        "outputId": "9dd166f5-a0f8-4df7-8a03-65aac6509421"
      },
      "execution_count": null,
      "outputs": [
        {
          "output_type": "stream",
          "name": "stdout",
          "text": [
            "/content/gdrive/MyDrive\n"
          ]
        }
      ]
    },
    {
      "cell_type": "markdown",
      "source": [
        "Run the `ls` command to list the contents of the Google Drive directory you changed to."
      ],
      "metadata": {
        "id": "XmOIA0xx-8Nx"
      }
    },
    {
      "cell_type": "code",
      "source": [
        "!ls"
      ],
      "metadata": {
        "id": "DjxZeMFU_HVq",
        "colab": {
          "base_uri": "https://localhost:8080/"
        },
        "outputId": "766eba4f-6ada-4601-a19c-ddb7e5fbe246"
      },
      "execution_count": null,
      "outputs": [
        {
          "output_type": "stream",
          "name": "stdout",
          "text": [
            " 2015-7真题.pdf\n",
            " 2015-7答案.pdf\n",
            " 2015年7月.mp3\n",
            "'2020 fall申请'\n",
            "'2025 fall CS application'\n",
            "'2 yr I20_Ling_Da.pdf'\n",
            "'8.27 FALL 2021 MA ORIENTATION PROGRAM.pdf'\n",
            " 9-16.SzondiHermeneutics.pdf\n",
            "'cfau transcript (Chinese ver).pdf'\n",
            " cjl资料\n",
            " Classroom\n",
            "'Colab Notebooks'\n",
            "'CS400 notes.gslides'\n",
            "'CS 401 notes.gslides'\n",
            "'CU Blouder CS program.gdoc'\n",
            "'da content resume 2025.1.pdf'\n",
            "'da content resume.pdf'\n",
            "'Da Ling Contractor Verification Letter.doc'\n",
            "'Da Ling resume 7.20 business+mkt.docx'\n",
            "'Da Ling video edit'\n",
            "'da ling 毕业照'\n",
            "'Da resume for CS application.gdoc'\n",
            " everything.zip\n",
            "'federal 2021（拖移项目）.pdf'\n",
            "'federal 2022（拖移项目）.pdf'\n",
            "'Fundamantal Math for Data Science - Notes.gslides'\n",
            "'Growth Mindset GA Case Study #1（副本）.gdoc'\n",
            "'Growth Mindset GA Case Study #2（副本）.gdoc'\n",
            "'How Fascism Works (Jason Stanley [Stanley, Jason]) (Z-Library).epub'\n",
            "'How Well Do You Follow Directions?（副本）.gdoc'\n",
            " i94.pdf\n",
            " insurance\n",
            "'Japanese Art After 1945 Scream Against the Sky.pdf'\n",
            " Japanese_Interpreter_Questionnaire.xlsx\n",
            " Japaneseness.png\n",
            "'Jaspers.The Idea of the University.excerpts.pdf'\n",
            "'job search.gsheet'\n",
            "'LCI Inspection Consent Form.pdf'\n",
            " Lease.pdf\n",
            "'Ling Da letter MPhil Japan.pdf'\n",
            " Ling_Da.pdf\n",
            "'literary critique question list.gdoc'\n",
            "'Modern Korean Buddhism from Sri Lanka to Japan'\n",
            "'My Disneyland Tickets and Passes.pdf'\n",
            "'opt & job search'\n",
            "'passport new.pdf'\n",
            "'Passport new.pdf'\n",
            "'PhD application'\n",
            " PXL_20220221_011333570.jpg\n",
            "'quiz 3 11.17.2020.docx'\n",
            "'Reporte Pre registro.pdf'\n",
            "'Research Proposal: Mizoguchi Kenji’s Japaneseness.gdoc'\n",
            "'Schleiermacher’s Hermeneutics Today.pptx'\n",
            " spotify.apk\n",
            "'start-ups in CA.gsheet'\n",
            " tari.png\n",
            " tax\n",
            "'The Grinding Ear - Endless Dream Tide'\n",
            "'The Grinding Ear - The Raining Universe'\n",
            "'The Life of the Mind (Hannah Arendt) (Z-Library).epub'\n",
            "'The Pre-modern Others’ Unhistorical Sense of Time(darft 1).docx'\n",
            " Weathering_wei_zhao.docx\n",
            "'Which Connections Really Help You Find a Job.PDF.gdoc'\n",
            "'Worksheet #1.docx（daling副本）.docx'\n",
            "'yale diploma.pdf'\n",
            "'yale health id.pdf'\n",
            "'Yale transcript(2 yrs).pdf'\n",
            "'Zertifikate - digital (German A1).pdf'\n",
            "'z lib.apk'\n",
            " レポート作成.pdf\n",
            " 万葉集　翻訳.docx\n",
            " 乔乔咨询.gdoc\n",
            " 五条人访谈提纲.gdoc\n",
            " 仓鼠教bible.gdoc\n",
            " 何为动漫研究.key\n",
            "'凌达 文艺美学论文.docx'\n",
            " 合同.pdf\n",
            "'如何在 Chrome   Edge   Firefox 配置 Proxy SwitchyOmega 扩展 - 帮助中心 - 一枝红杏'\n",
            " 学术类书籍\n",
            " 学术类文件（散）\n",
            " 安装教程\n",
            "'屏幕快照 2021-02-28 下午9.43.40.png'\n",
            "'屏幕快照 2021-03-03 下午10.52.10.png'\n",
            " 战斗美少女的精神分析（有水印）.pdf\n",
            "'數字極權時代生存手記 3.0 - reconsidera.pdf'\n",
            "'无标题文档 (1).gdoc'\n",
            " 无标题文档.gdoc\n",
            " 日本战后文学\n",
            " 本科毕业论文参考文献\n",
            " 泰国景点整理.pages\n",
            " 泰国行程.numbers\n",
            " 火狐浏览器-图书馆联盟下载技术.docx.docx\n",
            " 笔记3_1.png\n",
            " 签证\n",
            " 综合日语\n",
            " 读书会往期推文\n",
            " 身份\n",
            " 选题列表.gsheet\n",
            " 遗传性乳腺癌基因.pdf\n",
            " 采访\n",
            " 面膜测评.gdoc\n"
          ]
        }
      ]
    },
    {
      "cell_type": "markdown",
      "source": [
        "# 8 In your opinion, what is the relationship between programming and understanding computer systems?"
      ],
      "metadata": {
        "id": "DnABS2l5_cTs"
      }
    },
    {
      "cell_type": "markdown",
      "source": [
        "**Your response.**"
      ],
      "metadata": {
        "id": "UN2-_Yta_pon"
      }
    },
    {
      "cell_type": "markdown",
      "source": [
        "# 9 (Optional) What are the specs for your cell phone?\n",
        "\n",
        "Please provide the specs for your cell phone. Was this information easy or difficult to find?"
      ],
      "metadata": {
        "id": "vTJoYdWvGBDm"
      }
    },
    {
      "cell_type": "markdown",
      "source": [
        "**Your response.**"
      ],
      "metadata": {
        "id": "w86S_Ae8NWmo"
      }
    },
    {
      "cell_type": "markdown",
      "source": [
        "# 10 Share the Top 3 Things You've Learned as a Group with the Class\n"
      ],
      "metadata": {
        "id": "Xcb8nL5JFdcM"
      }
    },
    {
      "cell_type": "markdown",
      "source": [
        "Please share the top 3 things you have learned in your group with the class in this [Google Slides presentation](https://docs.google.com/presentation/d/1zNdJ4WszpMWd8MIUMyQWjndjwcSdAvYNcKO1HYX0W3U/edit?usp=sharing)."
      ],
      "metadata": {
        "id": "A3nux22LFxXj"
      }
    },
    {
      "cell_type": "markdown",
      "source": [
        "# 11 Reference\n",
        "\n",
        "If you'd like to learn more about computer systems, the book [Dive into Systems](https://diveintosystems.org) by Suzanne J. Matthews, Tia Newhall, and Kevin C. Webb has a wealth of great material."
      ],
      "metadata": {
        "id": "J2l1htuF6WT4"
      }
    }
  ]
}