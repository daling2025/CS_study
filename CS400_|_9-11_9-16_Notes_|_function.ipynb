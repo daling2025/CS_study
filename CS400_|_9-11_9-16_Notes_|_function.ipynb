{
  "nbformat": 4,
  "nbformat_minor": 0,
  "metadata": {
    "colab": {
      "provenance": [],
      "generative_ai_disabled": true,
      "include_colab_link": true
    },
    "kernelspec": {
      "name": "python3",
      "display_name": "Python 3"
    },
    "language_info": {
      "name": "python"
    }
  },
  "cells": [
    {
      "cell_type": "markdown",
      "metadata": {
        "id": "view-in-github",
        "colab_type": "text"
      },
      "source": [
        "<a href=\"https://colab.research.google.com/github/daling2025/CS_study/blob/main/CS400_%7C_9-11_9-16_Notes_%7C_function.ipynb\" target=\"_parent\"><img src=\"https://colab.research.google.com/assets/colab-badge.svg\" alt=\"Open In Colab\"/></a>"
      ]
    },
    {
      "cell_type": "markdown",
      "metadata": {
        "id": "irgMV1C-QCDS"
      },
      "source": [
        "# CS 400: Accelerated Fundamentals of Computing\n",
        "## Functions\n"
      ]
    },
    {
      "cell_type": "markdown",
      "source": [
        "# 1 Course Notes"
      ],
      "metadata": {
        "id": "89xIqxG6ex5J"
      }
    },
    {
      "cell_type": "markdown",
      "source": [
        "Please review Topic 2 of the Lecture Notes on Canvas."
      ],
      "metadata": {
        "id": "wdSjgGuie2bT"
      }
    },
    {
      "cell_type": "markdown",
      "metadata": {
        "id": "CTE0Uuc-qfLo"
      },
      "source": [
        "# 2 Introduction to Functions"
      ]
    },
    {
      "cell_type": "markdown",
      "metadata": {
        "id": "YPe6T1-5Sczg"
      },
      "source": [
        "You've seen functions in math. For example, consider the following function $f(x)$.\n",
        "\n",
        "$f(x)=2𝑥+7$\n",
        "\n",
        "By itself, the function $f(x)$ doesn't have a value. It just defines what it would mean to call the function $f$ on some value $x$.\n",
        "\n",
        "Given a value for $x$ , we can calculate the resulting value of $f(x)$.\n",
        "- Suppose $x$ = 3. Then, $f(2)$ evaluates to $2 \\times 3 + 7 = 13$\n",
        "- Suppose $x$ = -1. Then, $f(-1)$ gives $2 \\times -1 + 7 = 5$\n"
      ]
    },
    {
      "cell_type": "markdown",
      "source": [
        "In Python, we can define a function equivalent to $f(x) = 2x + 7$ as follows."
      ],
      "metadata": {
        "id": "S9byrg6q11Dv"
      }
    },
    {
      "cell_type": "code",
      "metadata": {
        "id": "BhqK6z12SQMB"
      },
      "source": [
        "def f(x):\n",
        "    result = 2 * x + 7\n",
        "    print(result)"
      ],
      "execution_count": null,
      "outputs": []
    },
    {
      "cell_type": "code",
      "metadata": {
        "id": "sHXmUoggSQMC",
        "colab": {
          "base_uri": "https://localhost:8080/"
        },
        "outputId": "6cdaf2a1-85fe-4b29-a5d2-e1435976bda7"
      },
      "source": [
        "f(3)"
      ],
      "execution_count": null,
      "outputs": [
        {
          "output_type": "stream",
          "name": "stdout",
          "text": [
            "13\n"
          ]
        }
      ]
    },
    {
      "cell_type": "code",
      "metadata": {
        "id": "LrjLvr66SQMD",
        "colab": {
          "base_uri": "https://localhost:8080/"
        },
        "outputId": "689ed376-3efd-4b41-84b2-227882881ea5"
      },
      "source": [
        "f(-1)"
      ],
      "execution_count": null,
      "outputs": [
        {
          "output_type": "stream",
          "name": "stdout",
          "text": [
            "5\n"
          ]
        }
      ]
    },
    {
      "cell_type": "markdown",
      "metadata": {
        "id": "GiLqgRkQT6P5"
      },
      "source": [
        "# 3 General form of a function definition"
      ]
    },
    {
      "cell_type": "markdown",
      "metadata": {
        "id": "bJSy5ZKMT6t0"
      },
      "source": [
        "- **`def`**:\n",
        "    - a keyword indicating a function definition\n",
        "\n",
        "- **`<<function_name>>`**:\n",
        "    - the name of the function (use *snake_case* name format where punctuation is removed and spaces are replaced by single underscores.)\n",
        "\n",
        "- **`<<parameters>>`**:\n",
        "    - the parameter(s) of the function, 0 or more.  \n",
        "    - Parameters are a comma-separated list of variables whose values will be supplied when the function is called.\n",
        "\n",
        "- **`<<body>>`**:\n",
        "    - One or more statements inside the function.  \n",
        "    - All body statements must be indented the same amount (usually 4 spaces)."
      ]
    },
    {
      "cell_type": "markdown",
      "metadata": {
        "id": "OhOud9MqT6t1"
      },
      "source": [
        "Once a function has been defined, we can call on the function. A *function call* has the form:\n",
        "    **`«function_name»(«arguments»)`**\n",
        "\n",
        "A function call is executed as follows.\n",
        "1. Evaluate the arguments. These produce values.\n",
        "2. Assign those values to the parameters.\n",
        "3. Pause the current statement and execute the body of the function.\n",
        "4. Resume execution of the paused current statement.\n"
      ]
    },
    {
      "cell_type": "markdown",
      "metadata": {
        "id": "zfkZBzCsXnV5"
      },
      "source": [
        "## 3.1 Example\n",
        "\n",
        "Let's revisit our function `f` from Section 2.\n",
        "```python\n",
        "def f(x):\n",
        "    result = 2 * x + 7\n",
        "    print(result)\n",
        "```"
      ]
    },
    {
      "cell_type": "markdown",
      "source": [
        "Answer the questions below."
      ],
      "metadata": {
        "id": "po0i-SITmmxT"
      }
    },
    {
      "cell_type": "code",
      "source": [
        "def f(x):\n",
        "    result = 2 * x + 7\n",
        "    print(result)\n",
        "\n",
        "f(20)"
      ],
      "metadata": {
        "colab": {
          "base_uri": "https://localhost:8080/"
        },
        "id": "WfBPGsFLrtTI",
        "outputId": "e5b1b09d-99b0-4dae-a2bf-c08cd1032167"
      },
      "execution_count": null,
      "outputs": [
        {
          "output_type": "stream",
          "name": "stdout",
          "text": [
            "47\n"
          ]
        }
      ]
    },
    {
      "cell_type": "markdown",
      "source": [
        "(a) What is the name of the function?"
      ],
      "metadata": {
        "id": "g0NH_JZDltvr"
      }
    },
    {
      "cell_type": "markdown",
      "source": [
        "*Answer:*"
      ],
      "metadata": {
        "id": "ucgDi5r0mLrl"
      }
    },
    {
      "cell_type": "markdown",
      "source": [
        "(b) How many parameter(s) does the function have?"
      ],
      "metadata": {
        "id": "EsxdnA2XluRC"
      }
    },
    {
      "cell_type": "markdown",
      "source": [
        "*Answer:*"
      ],
      "metadata": {
        "id": "Iz1fIEYvmVAw"
      }
    },
    {
      "cell_type": "markdown",
      "source": [
        "(c) What are the parameter(s) names?"
      ],
      "metadata": {
        "id": "zzj_jDXkluy6"
      }
    },
    {
      "cell_type": "markdown",
      "source": [
        "*Answer:*"
      ],
      "metadata": {
        "id": "4bD2oTYlmVUU"
      }
    },
    {
      "cell_type": "markdown",
      "source": [
        "(d) What is the argument for function call `f(8)`?"
      ],
      "metadata": {
        "id": "LPiptmwQlvMc"
      }
    },
    {
      "cell_type": "markdown",
      "source": [
        "*Answer:*"
      ],
      "metadata": {
        "id": "iCjMRK7RmVbw"
      }
    },
    {
      "cell_type": "markdown",
      "source": [
        "(e) What value does `f(8)` produce?"
      ],
      "metadata": {
        "id": "eUmHMcdglvmR"
      }
    },
    {
      "cell_type": "markdown",
      "source": [
        "*Answer:*"
      ],
      "metadata": {
        "id": "3LMkUuT3u76c"
      }
    },
    {
      "cell_type": "markdown",
      "source": [
        "(f) What is the data type of the value resulting from the execution of`f(8)`?"
      ],
      "metadata": {
        "id": "TNFNi3iDu5t2"
      }
    },
    {
      "cell_type": "markdown",
      "source": [
        "*Answer:*"
      ],
      "metadata": {
        "id": "fxC84j1amVny"
      }
    },
    {
      "cell_type": "markdown",
      "source": [
        "# 3 `fun` function"
      ],
      "metadata": {
        "id": "PJ6DFaFM8GNM"
      }
    },
    {
      "cell_type": "markdown",
      "source": [
        "Consider the function `fun` below."
      ],
      "metadata": {
        "id": "Wumkd3R375G4"
      }
    },
    {
      "cell_type": "code",
      "source": [
        "def fun(a, b):\n",
        "    print(a * b )"
      ],
      "metadata": {
        "id": "SlCF8t-oPhas"
      },
      "execution_count": null,
      "outputs": []
    },
    {
      "cell_type": "markdown",
      "source": [
        "## 3.1 What is the result of the following function call?"
      ],
      "metadata": {
        "id": "jLpyQAIw8K7G"
      }
    },
    {
      "cell_type": "code",
      "source": [
        "fun(5, 4)"
      ],
      "metadata": {
        "id": "KiZOZQlgPsvO"
      },
      "execution_count": null,
      "outputs": []
    },
    {
      "cell_type": "markdown",
      "source": [
        "## 3.2 What are the data types of the parameters `a` and `b` for the function call `fun(5, 4)`?"
      ],
      "metadata": {
        "id": "HlSqKM6sRZQa"
      }
    },
    {
      "cell_type": "markdown",
      "source": [
        "*Answer:*"
      ],
      "metadata": {
        "id": "ZZs24I4_myuj"
      }
    },
    {
      "cell_type": "markdown",
      "source": [
        "## 3.3 What is the result of the following function *call*?"
      ],
      "metadata": {
        "id": "pxBA1uWF8lTX"
      }
    },
    {
      "cell_type": "code",
      "source": [
        "fun('apple', 2)"
      ],
      "metadata": {
        "id": "5EhdHpGyPyQX"
      },
      "execution_count": null,
      "outputs": []
    },
    {
      "cell_type": "markdown",
      "source": [
        "## 3.4 What are the data types of the parameters `a` and `b` for the function call `fun('apple', 2)`?"
      ],
      "metadata": {
        "id": "GusfyvyiReWM"
      }
    },
    {
      "cell_type": "markdown",
      "source": [
        "*Answer:*"
      ],
      "metadata": {
        "id": "m3gGnhsFmu0V"
      }
    },
    {
      "cell_type": "markdown",
      "metadata": {
        "id": "JYO44IwsSaOx"
      },
      "source": [
        "#4 The `return` Statement"
      ]
    },
    {
      "cell_type": "markdown",
      "metadata": {
        "id": "6dlbZ4A-N3VJ"
      },
      "source": [
        "The Python `return` statement is a special statement that you can use inside a function or method to send the function’s result back to the caller. A return statement consists of the return keyword followed by an optional return value.\n",
        "\n",
        "An explicit return statement immediately terminates a function execution and sends the return value back to the caller code."
      ]
    },
    {
      "cell_type": "markdown",
      "metadata": {
        "id": "LAy3N5psSfT4"
      },
      "source": [
        "## Example\n",
        "\n",
        "Consider the following Python code to add two numbers `num1` and `num2`."
      ]
    },
    {
      "cell_type": "code",
      "metadata": {
        "id": "ZjPXkl6uRxHn"
      },
      "source": [
        "def add(num1, num2):\n",
        "    return num1 + num2"
      ],
      "execution_count": null,
      "outputs": []
    },
    {
      "cell_type": "markdown",
      "metadata": {
        "id": "B5P7Yz8PS1Lp"
      },
      "source": [
        "Calling or executing the function `add` with the arguments 5 and 100."
      ]
    },
    {
      "cell_type": "code",
      "metadata": {
        "id": "bk9NY0SkR2fh"
      },
      "source": [
        "result = add (5, 100)\n",
        "print(f'result: {result}')"
      ],
      "execution_count": null,
      "outputs": []
    },
    {
      "cell_type": "markdown",
      "source": [
        "Here the integer 5 is assigned to the parameter (or variable) `num1` and the integer 100 is assigned to the parameter `num2`."
      ],
      "metadata": {
        "id": "nTINS4y_rYsT"
      }
    },
    {
      "cell_type": "markdown",
      "source": [
        "Calling the function `add` with the arguments -15 and 5."
      ],
      "metadata": {
        "id": "_4-uyNmLaufO"
      }
    },
    {
      "cell_type": "code",
      "metadata": {
        "id": "AzxfByK2R8Dq"
      },
      "source": [
        "result = add(-1.5, 5) + 10\n",
        "print(f'result: {result}')"
      ],
      "execution_count": null,
      "outputs": []
    },
    {
      "cell_type": "markdown",
      "metadata": {
        "id": "Md4xvB4hTDCH"
      },
      "source": [
        "Executing the function `add` with the arguments -1.5 and 5. `add(-1.5, 5)` returns 3.5. The final result is then 3.5 + 10 which is 13.5."
      ]
    },
    {
      "cell_type": "markdown",
      "source": [
        "**9.11 Thursday Class Notes (intro)**\\\n",
        "`f(x) = 2 * x + 10`\n",
        "- f: function name\n",
        "- x: input, parameter\n",
        "- 2 * x + 10 : algorithom\n",
        "- result: output\n",
        "\n",
        "**9.16 Tuesday Class Notes**\\\n",
        "`f(x) = 2 * x + 7`\n",
        "\n",
        "1. How to code the function\n",
        "\n",
        "\n",
        "\n",
        "```\n",
        ">Line 1 def f(x):\n",
        "   Line 2 result = 2 * x + 7\n",
        "   Line 3 print(result)\n",
        "```\n",
        "\n",
        "\n",
        "2. How to understand these codes\n",
        "\n",
        "def - define, keyword\n",
        "\n",
        "f - function name\n",
        "\n",
        "(x) - parameter and input\n",
        "\n",
        "function f has 3 lines of code\n",
        "\n",
        "3. call f to action\n",
        "\n",
        "```\n",
        "Line A: f(20)\n",
        "```\n",
        "\n",
        "Once this above line executes, what happens next?\n",
        "\n",
        "Excute Line A, Line 1, Line 2, Line 3, go back to Line A to see if anything needs to be done, terminate.\n",
        "\n",
        "Line A;\n",
        "\n",
        "Line 1 - x assigns 20;\n",
        "\n",
        "Line 2 - result = 47, 47 is assigned to result;\n",
        "\n",
        "Line 3 - print 47\n",
        "\n",
        "4. another exercise\n",
        "\n",
        "\n",
        "```\n",
        "> Line 1 def plus_op(input1, input2):\n",
        "Line 2 result = input1 + input2\n",
        "Line 3 print(result)\n",
        "```\n",
        "\n",
        "- (1)plus_op(45) - error\n",
        "\n",
        "- (2)\n",
        "\n",
        "\n",
        "```\n",
        "Line A plus_op(45, 10)\n",
        "```\n",
        "\n",
        "\n",
        "When called, 45 assigned to input1, 10 assigned to input2\n",
        "\n",
        "result = 55\n",
        "\n",
        "- (3)Are there any other data types that will work with this functions? - two strings\n",
        "\n",
        "e.g. plus_ops(\"apple\",\"pie\") - applepie\n",
        "\n",
        "5. Note: def顶格写，下一行开始开头要空格,indentation缩进。\n",
        "- Why? dependent structure. No line 1, no line 2, so line 2 is dependent on line 1.\n",
        "\n",
        "6. How many inputs can one have in a function?\n",
        "\n",
        "No need to add too many parameters.. redesign, break it down to smaller functions.\n",
        "\n",
        "7. return\n",
        "- (1)\n",
        "\n",
        "```\n",
        "# This is formatted as code\n",
        "1def plus_op(input1, input2):\n",
        "2 result = input1 + input2\n",
        "3 print(result)\n",
        "\n",
        "A value = plus_op(5,10)\n",
        "B print(value)\n",
        "\n",
        "```\n",
        "- execution order: A, 1, 2, 3, A(complete the assignment statement, meaning that value will have a value 15), B\n",
        "\n",
        "- execution result: f has input, but there's no way to convey the output\n",
        "\n",
        "- (2)How to fix it? use \"return\" statement\n",
        "\n",
        "```\n",
        "# This is formatted as code\n",
        "1def plus_op(input1, input2):\n",
        "2 result = input1 + input2\n",
        "3 print(result)\n",
        "4 return result\n",
        "\n",
        "A value = plus_op(5,10)\n",
        "B print(value)\n",
        "\n",
        "```\n",
        "- Without return statement, plus_op(5,10) - result variable's data is locked in the function.\n",
        "\n",
        "- With return statement, plus_op(5,10) - we can send the result outside of the function.\n",
        "\n",
        "8.\n",
        "\n",
        "- ver1: plus_op(5,10)\n",
        "\n",
        "- ver2: value = plus_op(5,10)\n",
        "  - implicit(default) return, which is none\n",
        "  - it's not an integer, it's not within the 4 data type range.\n",
        "  - if we assign plus_op(5, 10) + 100 to value, there will be an error.\n",
        "\n",
        "9. f string\n",
        "\n",
        "```\n",
        "result = 5\n",
        "print(result)\n",
        "```\n",
        "or\n",
        "```\n",
        "print(\"the result is:\" + result)\n",
        "```\n",
        "- meaning:\n",
        "\n",
        "\"the result is:\" - string\n",
        "\n",
        "result - int\n",
        "\n",
        "python will convert result into a str\n",
        "\n",
        "output: the result is: 5\n",
        "\n",
        "- f string (f stands for format)\n",
        "\n",
        "```\n",
        "print(f\"the result is: {result}\")\n",
        "```\n",
        "\n",
        "note: there is a space after the colon\n",
        "\n"
      ],
      "metadata": {
        "id": "lCzo_FpIns0j"
      }
    }
  ]
}