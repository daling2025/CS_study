{
  "nbformat": 4,
  "nbformat_minor": 0,
  "metadata": {
    "colab": {
      "provenance": [],
      "private_outputs": true,
      "generative_ai_disabled": true,
      "include_colab_link": true
    },
    "kernelspec": {
      "name": "python3",
      "display_name": "Python 3"
    },
    "language_info": {
      "name": "python"
    }
  },
  "cells": [
    {
      "cell_type": "markdown",
      "metadata": {
        "id": "view-in-github",
        "colab_type": "text"
      },
      "source": [
        "<a href=\"https://colab.research.google.com/github/daling2025/CS_study/blob/main/CS400_Chapter_2_Variables_and_Simple_Data_Types.ipynb\" target=\"_parent\"><img src=\"https://colab.research.google.com/assets/colab-badge.svg\" alt=\"Open In Colab\"/></a>"
      ]
    },
    {
      "cell_type": "markdown",
      "metadata": {
        "id": "m7ayIzyiboHJ"
      },
      "source": [
        "# Textbook: Python Crash Course, 3rd Edition - Eric Matthes\n",
        "## Chapter 2: Variables and Simple Data Types"
      ]
    },
    {
      "cell_type": "markdown",
      "metadata": {
        "id": "4TpegmAB2c0Y"
      },
      "source": [
        "This Colab notebook is to used alongside Chapter 2 of *Python Crash Course, 3rd\n",
        "Edition* by Eric Matthes."
      ]
    },
    {
      "cell_type": "markdown",
      "metadata": {
        "id": "jY0HrLIiOcbh"
      },
      "source": [
        "# What Really Happens When You Run hello_world.py\n",
        "\n",
        "The following code block contains the code for the `hello_world.py` program."
      ]
    },
    {
      "cell_type": "code",
      "metadata": {
        "id": "kG6v8GkXOIM_"
      },
      "source": [
        "print(\"Hello Python world!\")"
      ],
      "execution_count": null,
      "outputs": []
    },
    {
      "cell_type": "markdown",
      "source": [
        "1. Your editor (e.g., Google Colab) runs the above line through the Python interpreter, which reads through the program and determines what each word in the program means.\n",
        "2. When the interpreter sees the word `print` followed by parentheses, it preints to the screen wahteve is inside the parentheses.\n",
        "3. Your editor highlights different parts of your program in different ways. This is called *syntax highlighting.*\n",
        "    * Your editor that `print()` is the name of a function and displays that word in one color.\n",
        "    * Your editor recognizes that `\"Hello Python world!\"` is a phrase (or more specifically, a string) and displays it in a different color."
      ],
      "metadata": {
        "id": "mk6HGRFIaO7_"
      }
    },
    {
      "cell_type": "markdown",
      "metadata": {
        "id": "mMz0iGC2O_eM"
      },
      "source": [
        "# Variables"
      ]
    },
    {
      "cell_type": "markdown",
      "source": [
        "Variables are used to store information to be referenced and manipulated in a computer program. Variables are containers that hold information. Their sole purpose to label and store data in the computer."
      ],
      "metadata": {
        "id": "6qC1hVXAjnON"
      }
    },
    {
      "cell_type": "markdown",
      "source": [
        "In the program below, `message` is a variable that holds a string (line 1). In Python, variables are on the left side of the assignment (=) operation."
      ],
      "metadata": {
        "id": "Wf0qK-WHkUHi"
      }
    },
    {
      "cell_type": "code",
      "metadata": {
        "id": "3ETdaQr5PHgO"
      },
      "source": [
        "message = \"Hello Python world!\"\n",
        "print(message)"
      ],
      "execution_count": null,
      "outputs": []
    },
    {
      "cell_type": "markdown",
      "metadata": {
        "id": "PymbX9EnPPJR"
      },
      "source": [
        "Let expand this program by adding code to print a second message.\n"
      ]
    },
    {
      "cell_type": "code",
      "metadata": {
        "id": "xUzd5na9PWrV"
      },
      "source": [
        "message = \"Hello Python world!\"\n",
        "print(message)\n",
        "\n",
        "message = \"Hello Python Crash Course world!\"\n",
        "print(message)"
      ],
      "execution_count": null,
      "outputs": []
    },
    {
      "cell_type": "markdown",
      "metadata": {
        "id": "R1P3-afSPkyF"
      },
      "source": [
        "## Avoiding Name Errors When Using Variables"
      ]
    },
    {
      "cell_type": "markdown",
      "source": [
        "The following program does not run as it contains an error.\n",
        "* The error is in Line 2 that attempts to print\n",
        "the value of the variable `mesage` but there is no such variable.\n",
        "* The variable `message` in Line 1 has two s's..\n",
        "\n"
      ],
      "metadata": {
        "id": "JnXx8UKsWVvk"
      }
    },
    {
      "cell_type": "code",
      "metadata": {
        "id": "X7qOduuCPpF5"
      },
      "source": [
        "message = \"Hello Python Crash Course reader!\"\n",
        "print(mesage)"
      ],
      "execution_count": null,
      "outputs": []
    },
    {
      "cell_type": "markdown",
      "metadata": {
        "id": "r4WyTe7JP0B7"
      },
      "source": [
        "The Python interpretor doesn't spellcheck your code, but it does ensure that variable names are spelled **consistently**.\n",
        "\n",
        "Consider the following program where we spell `mesage` incorrectly but consistently."
      ]
    },
    {
      "cell_type": "code",
      "metadata": {
        "id": "JsKTsx3RQKhy"
      },
      "source": [
        "mesage = \"Hello Python Crash Course reader!\"\n",
        "print(mesage)"
      ],
      "execution_count": null,
      "outputs": []
    },
    {
      "cell_type": "markdown",
      "metadata": {
        "id": "BRqtmTtFcAx0"
      },
      "source": [
        "# Strings"
      ]
    },
    {
      "cell_type": "markdown",
      "metadata": {
        "id": "ZY1sPzkmQeKf"
      },
      "source": [
        "A string is a series of characters. Anything inside quotes is considered a string in Python. You can use single or double quotes around strings.\n",
        "\n",
        "Here are examples of valid strings.\n",
        "* `\"This is a string.\"`\n",
        "* `'This is also a string.'`\n",
        "* `'Fighting Illini'`\n",
        "* `\"The language 'Python' is named after Monty Python, not the snake.\"`\n",
        "* `\"One of Python's strengths is its diverse and supportive community.\"`\n",
        "\n"
      ]
    },
    {
      "cell_type": "markdown",
      "source": [
        "Here are a few of the above strings inside of print statements."
      ],
      "metadata": {
        "id": "2cMzWJSsXS9M"
      }
    },
    {
      "cell_type": "code",
      "source": [
        "print(\"This is a string.\")"
      ],
      "metadata": {
        "id": "HzqX45jzXW9G"
      },
      "execution_count": null,
      "outputs": []
    },
    {
      "cell_type": "code",
      "source": [
        "print('This is also a string.')"
      ],
      "metadata": {
        "id": "AvCeibMBXZTP"
      },
      "execution_count": null,
      "outputs": []
    },
    {
      "cell_type": "markdown",
      "source": [
        "If you want to print the symbol `'`, then you must use double quotes inside of the print statement."
      ],
      "metadata": {
        "id": "VyxrpJf3X1JP"
      }
    },
    {
      "cell_type": "code",
      "source": [
        "print(\"The language 'Python' is named after Monty Python, not the snake.\")"
      ],
      "metadata": {
        "id": "8gNMmv_uXvZb"
      },
      "execution_count": null,
      "outputs": []
    },
    {
      "cell_type": "markdown",
      "metadata": {
        "id": "cEkKpKCpSWBN"
      },
      "source": [
        "## Changing Case in a String with Methods"
      ]
    },
    {
      "cell_type": "markdown",
      "source": [
        "One of the simplest tasks you can do with strings is change the case of words in strings."
      ],
      "metadata": {
        "id": "KwLr5VEFhAda"
      }
    },
    {
      "cell_type": "markdown",
      "source": [
        "Changing a string to title case."
      ],
      "metadata": {
        "id": "CzqzT_jsjTir"
      }
    },
    {
      "cell_type": "code",
      "metadata": {
        "id": "vhfsqSYNSbg5"
      },
      "source": [
        "name = \"ada lovelace\"\n",
        "print(name.title())"
      ],
      "execution_count": null,
      "outputs": []
    },
    {
      "cell_type": "markdown",
      "source": [
        "You can change a string to all uppercase or all lowercase letters."
      ],
      "metadata": {
        "id": "yq51IY4TjLwt"
      }
    },
    {
      "cell_type": "code",
      "metadata": {
        "id": "EiYgzDjrSmKr"
      },
      "source": [
        "name = \"Ada Lovelace\"\n",
        "print(name.upper())\n",
        "print(name.lower())"
      ],
      "execution_count": null,
      "outputs": []
    },
    {
      "cell_type": "markdown",
      "metadata": {
        "id": "IcP4gP0jShiJ"
      },
      "source": [
        "*Trivia question:* Who was Ada Lovelace?"
      ]
    },
    {
      "cell_type": "markdown",
      "metadata": {
        "id": "NiukglLNS_nf"
      },
      "source": [
        "## Using Variables in Strings"
      ]
    },
    {
      "cell_type": "markdown",
      "source": [
        "Suppose you want to use a variable's value inside a string.\n",
        "* We can construct strings that that are called *f-strings*.\n",
        "* The *f* is for *format* because Python formats the strings by replacing the name of any variable in braces with its value."
      ],
      "metadata": {
        "id": "q5Awl1dMh4gH"
      }
    },
    {
      "cell_type": "markdown",
      "metadata": {
        "id": "YRVeqTYh1wA4"
      },
      "source": [
        "*full_name.py*"
      ]
    },
    {
      "cell_type": "code",
      "metadata": {
        "id": "v9kCmb93TCjP"
      },
      "source": [
        "first_name = \"ada\"\n",
        "last_name = \"lovelace\"\n",
        "full_name = f\"{first_name} {last_name}\"\n",
        "print(full_name)"
      ],
      "execution_count": null,
      "outputs": []
    },
    {
      "cell_type": "markdown",
      "source": [
        "You can use f-strings to compose complete messages using the information associated with a variable."
      ],
      "metadata": {
        "id": "tvJ1gesXi35t"
      }
    },
    {
      "cell_type": "code",
      "metadata": {
        "id": "wDSCyHzbTOZ-"
      },
      "source": [
        "first_name = \"ada\"\n",
        "last_name = \"lovelace\"\n",
        "full_name = f\"{first_name} {last_name}\"\n",
        "print(f\"Hello, {full_name.title()}!\")"
      ],
      "execution_count": null,
      "outputs": []
    },
    {
      "cell_type": "markdown",
      "source": [
        "You can use f-strings to compose a message, and then assign the entire message to a variable."
      ],
      "metadata": {
        "id": "QusHaKGBiue6"
      }
    },
    {
      "cell_type": "code",
      "metadata": {
        "id": "9VH1sBi7Td1l"
      },
      "source": [
        "first_name = \"ada\"\n",
        "last_name = \"lovelace\"\n",
        "full_name = f\"{first_name} {last_name}\"\n",
        "message = f\"Hello, {full_name.title()}!\"\n",
        "print(message)"
      ],
      "execution_count": null,
      "outputs": []
    },
    {
      "cell_type": "markdown",
      "metadata": {
        "id": "a35DFLoUTxRY"
      },
      "source": [
        "## Adding Whitespace to Strings with Tabs or Newlines"
      ]
    },
    {
      "cell_type": "markdown",
      "metadata": {
        "id": "QEVnfaR13Xlt"
      },
      "source": [
        "The code below shows how to use a tab inside a string."
      ]
    },
    {
      "cell_type": "code",
      "metadata": {
        "id": "qmEsFJgPT3BQ"
      },
      "source": [
        "print(\"Python\")\n",
        "print(\"\\tPython\")"
      ],
      "execution_count": null,
      "outputs": []
    },
    {
      "cell_type": "markdown",
      "metadata": {
        "id": "hgqRwPsr3cYu"
      },
      "source": [
        "In the code below, Lines 1-4 outputs the same information as Line 6. Line 5 shows how to print an empty line."
      ]
    },
    {
      "cell_type": "code",
      "metadata": {
        "id": "e26MmqAcT_gV"
      },
      "source": [
        "print(\"Languages:\")\n",
        "print(\"Python\")\n",
        "print(\"C\")\n",
        "print(\"Javascript\")\n",
        "print()\n",
        "print(\"Languages:\\nPython\\nC\\nJavascript\")"
      ],
      "execution_count": null,
      "outputs": []
    },
    {
      "cell_type": "markdown",
      "metadata": {
        "id": "jHxfhEGz30oO"
      },
      "source": [
        "By default, every print command outputs a newline character at the end of its string. The code below shows how to incorporate additional new line characters (\\n) inside the string."
      ]
    },
    {
      "cell_type": "code",
      "metadata": {
        "id": "f-p6pfh-Ud5O"
      },
      "source": [
        "print(\"Languages:\\n\\tPython\\n\\tC\\n\\tJavascript\")"
      ],
      "execution_count": null,
      "outputs": []
    },
    {
      "cell_type": "markdown",
      "metadata": {
        "id": "kt7IIs9_Uqi-"
      },
      "source": [
        "## Stripping Whitespace"
      ]
    },
    {
      "cell_type": "markdown",
      "metadata": {
        "id": "7OQUBJmy4HO_"
      },
      "source": [
        "Notice that the string `'python '` has an extra whitespace character after the letter n."
      ]
    },
    {
      "cell_type": "code",
      "metadata": {
        "id": "HA804WFgUs-g"
      },
      "source": [
        "favorite_language = 'python '\n",
        "message = f\"My favorite language is {favorite_language}.\"\n",
        "print(message)"
      ],
      "execution_count": null,
      "outputs": []
    },
    {
      "cell_type": "markdown",
      "metadata": {
        "id": "VftFv14f4PWE"
      },
      "source": [
        "The command `rstrip()` removes an extra whitespace characters at the end of a string."
      ]
    },
    {
      "cell_type": "code",
      "metadata": {
        "id": "yQcJU4FuVcCI"
      },
      "source": [
        "favorite_language = 'python '\n",
        "message = f\"My favorite language is {favorite_language.rstrip()}.\"\n",
        "print(message)"
      ],
      "execution_count": null,
      "outputs": []
    },
    {
      "cell_type": "markdown",
      "metadata": {
        "id": "ThnoV7v24vs9"
      },
      "source": [
        "Here we have a string `'    python    '` with extra whitespace characters at the front (left) and end (right) of the string."
      ]
    },
    {
      "cell_type": "code",
      "metadata": {
        "id": "4tB6oKupVzRo"
      },
      "source": [
        "favorite_language = '    python    '\n",
        "message = f\"My favorite language is {favorite_language}.\"\n",
        "print(message)"
      ],
      "execution_count": null,
      "outputs": []
    },
    {
      "cell_type": "markdown",
      "metadata": {
        "id": "AbZq51BE4-JT"
      },
      "source": [
        "The commands `rstrip()`, `lstrip()`, and `strip()` removes whitespace characters from the right, left, and both right and left of the string, respectively."
      ]
    },
    {
      "cell_type": "code",
      "metadata": {
        "id": "WI_aFp8_WvCS"
      },
      "source": [
        "favorite_language = '    python    '\n",
        "\n",
        "message = f\"My favorite language is {favorite_language.rstrip()}.\"\n",
        "print(message)\n",
        "\n",
        "message = f\"My favorite language is {favorite_language.lstrip()}.\"\n",
        "print(message)\n",
        "\n",
        "message = f\"My favorite language is {favorite_language.strip()}.\"\n",
        "print(message)"
      ],
      "execution_count": null,
      "outputs": []
    },
    {
      "cell_type": "markdown",
      "metadata": {
        "id": "XeUfrQV3XT-i"
      },
      "source": [
        "## Avoiding Syntax Errors with Strings"
      ]
    },
    {
      "cell_type": "markdown",
      "metadata": {
        "id": "NvA6tUrr2Lxj"
      },
      "source": [
        "*apostrophe.py*"
      ]
    },
    {
      "cell_type": "code",
      "metadata": {
        "id": "A3LLHXacXXUw"
      },
      "source": [
        "message = \"One of Python's strengths is its diverse community.\"\n",
        "print(message)"
      ],
      "execution_count": null,
      "outputs": []
    },
    {
      "cell_type": "markdown",
      "metadata": {
        "id": "fCU1VP3Y8KQC"
      },
      "source": [
        "Errors created because of misuse of quotes."
      ]
    },
    {
      "cell_type": "code",
      "metadata": {
        "id": "GhJgs5Z7XfXv"
      },
      "source": [
        "message = 'One of Python's strengths is its diverse community.'\n",
        "print(message)"
      ],
      "execution_count": null,
      "outputs": []
    },
    {
      "cell_type": "markdown",
      "metadata": {
        "id": "xKwriiKjXxTP"
      },
      "source": [
        "# Numbers"
      ]
    },
    {
      "cell_type": "markdown",
      "source": [
        "Python treats numbers in several different ways, depending on how they're being used."
      ],
      "metadata": {
        "id": "_7MN8TgGfzKy"
      }
    },
    {
      "cell_type": "markdown",
      "metadata": {
        "id": "bkKsF56h8sYI"
      },
      "source": [
        "## Integers"
      ]
    },
    {
      "cell_type": "markdown",
      "source": [
        "Integers are whole numbers."
      ],
      "metadata": {
        "id": "PlKRxdDNeDjf"
      }
    },
    {
      "cell_type": "code",
      "source": [
        "2 + 3"
      ],
      "metadata": {
        "id": "ceuT1MPxeMTq"
      },
      "execution_count": null,
      "outputs": []
    },
    {
      "cell_type": "code",
      "source": [
        "3 - 2"
      ],
      "metadata": {
        "id": "G7Mc68pIeNS7"
      },
      "execution_count": null,
      "outputs": []
    },
    {
      "cell_type": "code",
      "source": [
        "2 * 3"
      ],
      "metadata": {
        "id": "V3-RI31ZeOCD"
      },
      "execution_count": null,
      "outputs": []
    },
    {
      "cell_type": "code",
      "source": [
        "3 / 2"
      ],
      "metadata": {
        "id": "RNjAin_xeOyh"
      },
      "execution_count": null,
      "outputs": []
    },
    {
      "cell_type": "markdown",
      "source": [
        "Python uses two multiplication symbols to represent exponents."
      ],
      "metadata": {
        "id": "JBcHVtyxfeiM"
      }
    },
    {
      "cell_type": "code",
      "source": [
        "3 ** 2"
      ],
      "metadata": {
        "id": "FyiEJ5OseTxH"
      },
      "execution_count": null,
      "outputs": []
    },
    {
      "cell_type": "code",
      "source": [
        "3 ** 3"
      ],
      "metadata": {
        "id": "6RmhOK5geVIS"
      },
      "execution_count": null,
      "outputs": []
    },
    {
      "cell_type": "code",
      "source": [
        "10 ** 6"
      ],
      "metadata": {
        "id": "GHJ95FYyeWCA"
      },
      "execution_count": null,
      "outputs": []
    },
    {
      "cell_type": "markdown",
      "source": [
        "Python supports order of operations."
      ],
      "metadata": {
        "id": "BbX2i6T4fFQ3"
      }
    },
    {
      "cell_type": "code",
      "source": [
        "2 + 3 * 4"
      ],
      "metadata": {
        "id": "Iiv9pNCIeYTQ"
      },
      "execution_count": null,
      "outputs": []
    },
    {
      "cell_type": "code",
      "source": [
        "(2 + 3) * 4"
      ],
      "metadata": {
        "id": "81RzBg1ieZyC"
      },
      "execution_count": null,
      "outputs": []
    },
    {
      "cell_type": "markdown",
      "metadata": {
        "id": "CWQyqndFYtmb"
      },
      "source": [
        "### Floats"
      ]
    },
    {
      "cell_type": "markdown",
      "source": [
        "Python calls any number with a decimal point a *float*."
      ],
      "metadata": {
        "id": "GKkfXVF8b0bv"
      }
    },
    {
      "cell_type": "code",
      "source": [
        "0.1 + 0.1"
      ],
      "metadata": {
        "id": "57bsoxNrb6ai"
      },
      "execution_count": null,
      "outputs": []
    },
    {
      "cell_type": "code",
      "source": [
        "0.2 + 0.2"
      ],
      "metadata": {
        "id": "rDNqghKxb78I"
      },
      "execution_count": null,
      "outputs": []
    },
    {
      "cell_type": "code",
      "source": [
        "2 * 0.1"
      ],
      "metadata": {
        "id": "aji8ss77b9PK"
      },
      "execution_count": null,
      "outputs": []
    },
    {
      "cell_type": "code",
      "source": [
        "2 * 0.2"
      ],
      "metadata": {
        "id": "kuiFSZhIb-cI"
      },
      "execution_count": null,
      "outputs": []
    },
    {
      "cell_type": "markdown",
      "source": [
        "Be aware that you can sometime get an arbitrary number of decimal places in your answer."
      ],
      "metadata": {
        "id": "c1M8qXPWcB8r"
      }
    },
    {
      "cell_type": "code",
      "source": [
        "0.2 + 0.1"
      ],
      "metadata": {
        "id": "_M3LgmXvcItH"
      },
      "execution_count": null,
      "outputs": []
    },
    {
      "cell_type": "code",
      "source": [
        "3 * 0.1"
      ],
      "metadata": {
        "id": "dHXVUsx9cJ4I"
      },
      "execution_count": null,
      "outputs": []
    },
    {
      "cell_type": "markdown",
      "source": [
        "Python (like all programming languages) tries to find a way to represent the result as precisely as possible. Sometimes this is difficult given how computers represent numbers internally.\n",
        "\n",
        "Ignore the extra decimal places for now. Later in the semester we'll learn ways to deal with the extra digits after the decimal point."
      ],
      "metadata": {
        "id": "VbaNZDsZcQxw"
      }
    },
    {
      "cell_type": "markdown",
      "metadata": {
        "id": "NZsSW6rSZFFp"
      },
      "source": [
        "## Integers and Floats"
      ]
    },
    {
      "cell_type": "markdown",
      "source": [
        "When you divide two numbers, the result will always be a float."
      ],
      "metadata": {
        "id": "kg6WanzqbSLw"
      }
    },
    {
      "cell_type": "code",
      "source": [
        "4 / 2"
      ],
      "metadata": {
        "id": "aE_c1jTQbZLn"
      },
      "execution_count": null,
      "outputs": []
    },
    {
      "cell_type": "code",
      "source": [
        "25 / 4"
      ],
      "metadata": {
        "id": "aJPtk8ftbbL7"
      },
      "execution_count": null,
      "outputs": []
    },
    {
      "cell_type": "markdown",
      "source": [
        "If you mix an integer and a float, the result of the operation will be a float."
      ],
      "metadata": {
        "id": "FoFEDadrbi-7"
      }
    },
    {
      "cell_type": "code",
      "source": [
        "1 + 2.0"
      ],
      "metadata": {
        "id": "5LfvVaGebq9a"
      },
      "execution_count": null,
      "outputs": []
    },
    {
      "cell_type": "code",
      "source": [
        "2 * 3.0"
      ],
      "metadata": {
        "id": "ID3kulM5bsFC"
      },
      "execution_count": null,
      "outputs": []
    },
    {
      "cell_type": "code",
      "source": [
        "3.0 ** 2"
      ],
      "metadata": {
        "id": "dP_zqH7Obuac"
      },
      "execution_count": null,
      "outputs": []
    },
    {
      "cell_type": "markdown",
      "metadata": {
        "id": "79DGgjTwZeMP"
      },
      "source": [
        "## Underscores in Numbers"
      ]
    },
    {
      "cell_type": "markdown",
      "source": [
        "You can group digits using underscores to make large numbers more readable."
      ],
      "metadata": {
        "id": "gNLqMK4qbDLm"
      }
    },
    {
      "cell_type": "code",
      "metadata": {
        "id": "TZeQ4cTAZgT-"
      },
      "source": [
        "universe_age = 14_000_000_000\n",
        "print(universe_age)"
      ],
      "execution_count": null,
      "outputs": []
    },
    {
      "cell_type": "markdown",
      "metadata": {
        "id": "VUvzuLadZooq"
      },
      "source": [
        "## Multiple Assignment"
      ]
    },
    {
      "cell_type": "markdown",
      "source": [
        "You can assign values to more than one variable using a single line."
      ],
      "metadata": {
        "id": "qioqIuAIZ1h_"
      }
    },
    {
      "cell_type": "code",
      "metadata": {
        "id": "U9zPLrwfZq6C"
      },
      "source": [
        "x, y, z = 1, 2, 3"
      ],
      "execution_count": null,
      "outputs": []
    },
    {
      "cell_type": "code",
      "source": [
        "print(x)\n",
        "print(y)\n",
        "print(z)"
      ],
      "metadata": {
        "id": "SlgujnHbZ_f-"
      },
      "execution_count": null,
      "outputs": []
    },
    {
      "cell_type": "markdown",
      "source": [
        "Printing the variables of x, y, and z using f-strings to label the result."
      ],
      "metadata": {
        "id": "pvIym9jSaRio"
      }
    },
    {
      "cell_type": "code",
      "metadata": {
        "id": "1KG1mMo9aKvq"
      },
      "source": [
        "print(f\"x = {x}\")\n",
        "print(f\"y = {y}\")\n",
        "print(f\"z = {z}\")"
      ],
      "execution_count": null,
      "outputs": []
    },
    {
      "cell_type": "code",
      "metadata": {
        "id": "QO7nEXnRZ4wg"
      },
      "source": [
        "x, y, z = 1, 2, 3"
      ],
      "execution_count": null,
      "outputs": []
    },
    {
      "cell_type": "markdown",
      "source": [
        "Printing all of the values on a single line."
      ],
      "metadata": {
        "id": "gE9HJPVCahCz"
      }
    },
    {
      "cell_type": "code",
      "source": [
        "print(x, y, z)"
      ],
      "metadata": {
        "id": "UriJr0QyaeLQ"
      },
      "execution_count": null,
      "outputs": []
    },
    {
      "cell_type": "markdown",
      "metadata": {
        "id": "FRRxvb0SawSt"
      },
      "source": [
        "## Constants"
      ]
    },
    {
      "cell_type": "markdown",
      "source": [
        "A *constant* is a variable whose value stays the same throughout the life of the program. Python doesn't have built-in constant types, but Python programs use all capitable letters to indicate a constant variable."
      ],
      "metadata": {
        "id": "6tuGQjQsZhoU"
      }
    },
    {
      "cell_type": "code",
      "metadata": {
        "id": "xmUi1ZC6auoS"
      },
      "source": [
        "MAX_CONNECTIONS = 5000\n",
        "print(MAX_CONNECTIONS)"
      ],
      "execution_count": null,
      "outputs": []
    },
    {
      "cell_type": "markdown",
      "metadata": {
        "id": "S8qL386Za7GQ"
      },
      "source": [
        "# Comments"
      ]
    },
    {
      "cell_type": "markdown",
      "source": [
        "A *comment* allows you to write notes in English within your programs. In Python, the hash mark (#) indicates a comment. Anything following a hash mark in your code is ignored by the Python interpreter."
      ],
      "metadata": {
        "id": "9U5mHqBSZEAY"
      }
    },
    {
      "cell_type": "markdown",
      "metadata": {
        "id": "9T7g8Qff2TpE"
      },
      "source": [
        "*comment.py*"
      ]
    },
    {
      "cell_type": "code",
      "metadata": {
        "id": "sPct4l5na9E4"
      },
      "source": [
        "# Say hello to everyone.\n",
        "print(\"Hello Python people!\")"
      ],
      "execution_count": null,
      "outputs": []
    },
    {
      "cell_type": "markdown",
      "metadata": {
        "id": "r7YEJJcnbFjL"
      },
      "source": [
        "# Zen of Python"
      ]
    },
    {
      "cell_type": "code",
      "metadata": {
        "id": "3rkfJ6DSbHyD"
      },
      "source": [
        "# Type `import this` (without single quotes) below.\n",
        "import this"
      ],
      "execution_count": null,
      "outputs": []
    }
  ]
}
