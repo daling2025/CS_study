{
  "nbformat": 4,
  "nbformat_minor": 0,
  "metadata": {
    "colab": {
      "provenance": [],
      "private_outputs": true,
      "generative_ai_disabled": true,
      "include_colab_link": true
    },
    "kernelspec": {
      "name": "python3",
      "display_name": "Python 3"
    },
    "language_info": {
      "name": "python"
    }
  },
  "cells": [
    {
      "cell_type": "markdown",
      "metadata": {
        "id": "view-in-github",
        "colab_type": "text"
      },
      "source": [
        "<a href=\"https://colab.research.google.com/github/daling2025/CS_study/blob/main/CS400_Quick_Start_Python_and_Google_Colab.ipynb\" target=\"_parent\"><img src=\"https://colab.research.google.com/assets/colab-badge.svg\" alt=\"Open In Colab\"/></a>"
      ]
    },
    {
      "cell_type": "markdown",
      "source": [
        "# CS 400: Accelerated Fundamentals of Computing\n",
        "## Python and Google Colab"
      ],
      "metadata": {
        "id": "GQoJCoCftr1o"
      }
    },
    {
      "cell_type": "markdown",
      "metadata": {
        "id": "Q2hVYvyKStzJ"
      },
      "source": [
        "# 1 Important note: Save a copy of this notebook before you begin.\n",
        "\n",
        "Save a copy of this notebook to your Google Drive so that your work will be saved. To do this, use the following command.\n",
        "\n",
        "* File -> Save a copy in Drive"
      ]
    },
    {
      "cell_type": "markdown",
      "metadata": {
        "id": "jiCG1UqwLKYr"
      },
      "source": [
        "# 2 Why Python?\n",
        "\n",
        "* Python is an incredibly efficient language. Your programs will do more in few lines (or instructions) of code than many other languages would require.\n",
        "\n",
        "* Python's syntax will also help you write \"clean\" code. You code will be easier to read, easier to debug, and easier to extend and build upon compared to other languages.\n",
        "\n",
        "* People use Python for many purposes: to make games, build web applications, solve busines problems, and develop internal tools of all kinds of companies (e.g., Facebook, Google, Verizon, Pixar).\n",
        "\n",
        "* Python has a strong community, which includes diverse and welcoming group of people. Community is essential to programmers because programming is not a solitary pursuit.\n",
        "\n",
        "* Python is a great and fun language to learn!"
      ]
    },
    {
      "cell_type": "markdown",
      "metadata": {
        "id": "X6SggbVrNSB0"
      },
      "source": [
        "# 3 We are ready to start programming!"
      ]
    },
    {
      "cell_type": "markdown",
      "metadata": {
        "id": "Pr02_Zde8ysc"
      },
      "source": [
        "\n",
        "## 3.1 We'll start by taking it slow and easy.\n",
        "\n",
        "* We will take it slow and easy in the beginning by get acquainted and comfortable with the basics.\n",
        "\n",
        "* Following along in class is not enough. **You must type in the programs on your computer.**\n",
        "\n",
        "> * It’s the best way to see how a program works or executes. It’s how you learn to correct your mistakes (programming errors or bugs).\n",
        "\n",
        "> * Writing and reading code is the only way to learn how to program"
      ]
    },
    {
      "cell_type": "markdown",
      "metadata": {
        "id": "k6zLXQLK8c4Z"
      },
      "source": [
        "## 3.2 Be an explorer.\n",
        "\n",
        "* Since you are learning a new language, it is very important that you experiment with the material.\n",
        "\n",
        "* Be curious about trying different things.\n",
        "\n",
        "* Don’t be afraid to make a mistake or crash your computer. That’s how we learn best."
      ]
    },
    {
      "cell_type": "markdown",
      "metadata": {
        "id": "-qkbEezC9mbS"
      },
      "source": [
        "#4 Our first Python program.\n",
        "\n",
        "Let's start with using the `print` command to display program output.\n"
      ]
    },
    {
      "cell_type": "markdown",
      "metadata": {
        "id": "fV2jMZOVtc_-"
      },
      "source": [
        "Type the following Python instruction in the code cell that follows.\n",
        "\n",
        " ```python\n",
        " print(\"hello, world!\")\n",
        " ```\n"
      ]
    },
    {
      "cell_type": "code",
      "metadata": {
        "id": "xsBjb2AE9ykY"
      },
      "source": [],
      "execution_count": null,
      "outputs": []
    },
    {
      "cell_type": "markdown",
      "metadata": {
        "id": "3siG31YRvpJY"
      },
      "source": [
        "To execute the code in the above cell, select it with a click and then either press the play button to the left of the code, or use the keyboard shortcut \"Command/Ctrl+Enter\". To edit the code, just click the cell and start editing."
      ]
    },
    {
      "cell_type": "markdown",
      "metadata": {
        "id": "Hgn9Y4F-EcPM"
      },
      "source": [
        "# 5 Solve the following problems in Python."
      ]
    },
    {
      "cell_type": "markdown",
      "metadata": {
        "id": "V8c2TZX5FNJd"
      },
      "source": [
        "### (a) Write Python code to print `\"hello, apple\"` on a line by itself (line 1) followed by `\"hello, banana\"` on a separate line (line 2)."
      ]
    },
    {
      "cell_type": "code",
      "metadata": {
        "id": "ogt67EEwGQLt"
      },
      "source": [],
      "execution_count": null,
      "outputs": []
    },
    {
      "cell_type": "markdown",
      "metadata": {
        "id": "Hp6RhTQMFtP0"
      },
      "source": [
        "### (b) Write Python code to output or display the following shape.\n",
        "\n",
        "```\n",
        "********\n",
        "*      *\n",
        "********\n",
        "```"
      ]
    },
    {
      "cell_type": "code",
      "metadata": {
        "id": "XEkv8RzAFpLf"
      },
      "source": [],
      "execution_count": null,
      "outputs": []
    },
    {
      "cell_type": "markdown",
      "metadata": {
        "id": "wGlkj5khG2b6"
      },
      "source": [
        "### (c) Consider the following Python code.\n"
      ]
    },
    {
      "cell_type": "code",
      "metadata": {
        "id": "5t_VGvpmG5ri"
      },
      "source": [
        "print(\"*\")\n",
        "print(\"***\")\n",
        "print(\"*****\")\n",
        "print(\"*******\")\n",
        "print(\"*********\")\n",
        "print(\"***********\")\n",
        "print(\"*********\")\n",
        "print(\"*******\")\n",
        "print(\"*****\")\n",
        "print(\"***\")\n",
        "print(\"*\")"
      ],
      "execution_count": null,
      "outputs": []
    },
    {
      "cell_type": "markdown",
      "metadata": {
        "id": "r7Aa4LkJHzP_"
      },
      "source": [
        "Modify the above code to produce the diamond pattern below.\n",
        "\n",
        "```\n",
        "     *\n",
        "    ***\n",
        "   *****\n",
        "  *******\n",
        " *********\n",
        "***********\n",
        " *********\n",
        "  *******\n",
        "   *****\n",
        "    ***\n",
        "     *\n",
        "```"
      ]
    },
    {
      "cell_type": "markdown",
      "metadata": {
        "id": "Lin-Gnf2DKIU"
      },
      "source": [
        "# 6 Python as a Calculator\n",
        "\n",
        "\n"
      ]
    },
    {
      "cell_type": "markdown",
      "metadata": {
        "id": "osoDKaOrDU_f"
      },
      "source": [
        "## 6.1 Standard Math Operations\n",
        "\n",
        "Take a look at the standard math operations and their symbols that we will be using while coding.\n",
        "\n",
        "| operation        | symbol |\n",
        "|------------------|--------|\n",
        "| addition         | +      |\n",
        "| subtraction      | -      |\n",
        "| multiplication   | *      |\n",
        "| division         | /      |\n",
        "| integer division | //     |\n",
        "| exponentiation   | **     |\n",
        "| modulo/remainder | %      |\n"
      ]
    },
    {
      "cell_type": "markdown",
      "metadata": {
        "id": "3Jt79Hk76vWo"
      },
      "source": [
        "## 6.2 Solve the following problems in Python.\n",
        "\n",
        "You only need one line of code to solve each problem."
      ]
    },
    {
      "cell_type": "markdown",
      "metadata": {
        "id": "N8iiXi267CyD"
      },
      "source": [
        "### (a) Add the numbers 1, 2, 3, 4, and 5.\n",
        "\n",
        "*Note:* The one-line solution is given in the code cell below. Run the code to compute the result.\n",
        "1 + 2 + 3 + 4 + 5\n",
        "1 + 2 + 3 + 4 + 5\n",
        "1 + 2 + 3 + 4 + 5"
      ]
    },
    {
      "cell_type": "code",
      "metadata": {
        "id": "b9igRaC47KDO"
      },
      "source": [
        "1 + 2 + 3 + 4 + 5"
      ],
      "execution_count": null,
      "outputs": []
    },
    {
      "cell_type": "markdown",
      "metadata": {
        "id": "S2Ak42r17K6X"
      },
      "source": [
        "### (b) Multiply the numbers 1, 2, 3, 4, and 5."
      ]
    },
    {
      "cell_type": "code",
      "source": [],
      "metadata": {
        "id": "f7R93RK2TdNG"
      },
      "execution_count": null,
      "outputs": []
    },
    {
      "cell_type": "markdown",
      "metadata": {
        "id": "vyDYpElX7Qza"
      },
      "source": [
        "### (c) Compute 5 squared."
      ]
    },
    {
      "cell_type": "code",
      "metadata": {
        "id": "18UjtFNM7Tdt"
      },
      "source": [],
      "execution_count": null,
      "outputs": []
    },
    {
      "cell_type": "markdown",
      "metadata": {
        "id": "xYNe6jp-7T6i"
      },
      "source": [
        "### (d) Compute 3 raised to the fourth power."
      ]
    },
    {
      "cell_type": "code",
      "metadata": {
        "id": "bjUzsthC7W68"
      },
      "source": [],
      "execution_count": null,
      "outputs": []
    },
    {
      "cell_type": "markdown",
      "metadata": {
        "id": "8fQ9WCtQ7fyT"
      },
      "source": [
        "### (e) Compute 10 raised to the power 12."
      ]
    },
    {
      "cell_type": "code",
      "metadata": {
        "id": "H-QOU2Tv7kN_"
      },
      "source": [],
      "execution_count": null,
      "outputs": []
    },
    {
      "cell_type": "markdown",
      "metadata": {
        "id": "NzzsAx_57nBg"
      },
      "source": [
        "### (f) Compute 3 raised to the power 7 x 515."
      ]
    },
    {
      "cell_type": "code",
      "metadata": {
        "id": "p7VrFQ4176nE"
      },
      "source": [],
      "execution_count": null,
      "outputs": []
    },
    {
      "cell_type": "markdown",
      "metadata": {
        "id": "MesZExwQ77cm"
      },
      "source": [
        "### (g) Add parentheses to `4 - 2 * 3 + 4` to make 14."
      ]
    },
    {
      "cell_type": "code",
      "metadata": {
        "id": "XMedx7YF8Da7"
      },
      "source": [],
      "execution_count": null,
      "outputs": []
    },
    {
      "cell_type": "markdown",
      "metadata": {
        "id": "eznq9OYiqM0q"
      },
      "source": [
        "# 7 Miscellaneous Fun with Code Cells"
      ]
    },
    {
      "cell_type": "markdown",
      "metadata": {
        "id": "ldhgXumIwDQy"
      },
      "source": [
        "For each problem, please reflect on what the output means."
      ]
    },
    {
      "cell_type": "markdown",
      "metadata": {
        "id": "Q_7WNoqIq3ih"
      },
      "source": [
        "## 7.1 Type and run the following code in the provided code cell below.\n",
        "\n",
        "```\n",
        "import this\n",
        "```"
      ]
    },
    {
      "cell_type": "code",
      "metadata": {
        "id": "07GK-G2drShi"
      },
      "source": [],
      "execution_count": null,
      "outputs": []
    },
    {
      "cell_type": "markdown",
      "source": [
        "## 7.2 Run the following code."
      ],
      "metadata": {
        "id": "05T9ss2isLiR"
      }
    },
    {
      "cell_type": "markdown",
      "source": [
        "The code produces a scatter plot that shows the Gross Domestic Product (GDP) per capita on the x-axis and the life expectancy in years on the y-axis. GDP per capita is a country's GDP divided by its total population.\n",
        "\n",
        "The plot is interactive so feel free to scroll over the points on the plot for additional information."
      ],
      "metadata": {
        "id": "KrTSHTx00b8y"
      }
    },
    {
      "cell_type": "code",
      "source": [
        "import plotly.express as px\n",
        "df = px.data.gapminder()\n",
        "\n",
        "fig = px.scatter(df.query(\"year==2007\"), x=\"gdpPercap\", y=\"lifeExp\",\n",
        "\t         size=\"pop\", color=\"continent\",\n",
        "                 hover_name=\"country\", log_x=True, size_max=60)\n",
        "fig.show()"
      ],
      "metadata": {
        "id": "Au5Jj-aqrasT"
      },
      "execution_count": null,
      "outputs": []
    },
    {
      "cell_type": "markdown",
      "metadata": {
        "id": "gYLgK2Czyhyo"
      },
      "source": [
        "#8 More on Google Colababoratory\n",
        "* Overview of Colaboratory Features\n",
        "https://colab.research.google.com/notebooks/basic_features_overview.ipynb\n",
        "\n",
        "* Markdown Guide\n",
        "https://colab.research.google.com/notebooks/markdown_guide.ipynb\n",
        "\n"
      ]
    }
  ]
}
