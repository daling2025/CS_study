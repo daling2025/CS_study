{
  "nbformat": 4,
  "nbformat_minor": 0,
  "metadata": {
    "colab": {
      "provenance": [],
      "include_colab_link": true
    },
    "kernelspec": {
      "name": "python3",
      "display_name": "Python 3"
    },
    "language_info": {
      "name": "python"
    }
  },
  "cells": [
    {
      "cell_type": "markdown",
      "metadata": {
        "id": "view-in-github",
        "colab_type": "text"
      },
      "source": [
        "<a href=\"https://colab.research.google.com/github/daling2025/CS_study/blob/main/CS400_1.1.5_In_Class_Notes_09_02_2025.ipynb\" target=\"_parent\"><img src=\"https://colab.research.google.com/assets/colab-badge.svg\" alt=\"Open In Colab\"/></a>"
      ]
    },
    {
      "cell_type": "markdown",
      "source": [
        "# CS 400: Accelerated Fundamentals of Computing\n",
        "## Python and Google Colab\n",
        "\n",
        "### Date: 9/2/2025"
      ],
      "metadata": {
        "id": "GQoJCoCftr1o"
      }
    },
    {
      "cell_type": "markdown",
      "metadata": {
        "id": "Q2hVYvyKStzJ"
      },
      "source": [
        "# 1 Important note: Save a copy of this notebook before you begin.\n",
        "\n",
        "Save a copy of this notebook to your Google Drive so that your work will be saved. To do this, use the following command.\n",
        "\n",
        "* File -> Save a copy in Drive"
      ]
    },
    {
      "cell_type": "markdown",
      "source": [
        "# 2 Related Lecture Topics on Canvas\n",
        "\n",
        "\n"
      ],
      "metadata": {
        "id": "XMP6GhN2GOxs"
      }
    },
    {
      "cell_type": "markdown",
      "source": [
        "Please review the Lecture Notes for Topic 1."
      ],
      "metadata": {
        "id": "_GMcWykcGTpP"
      }
    },
    {
      "cell_type": "markdown",
      "source": [
        "# 3 Google Colab Settings"
      ],
      "metadata": {
        "id": "A4E4O1rWBSCN"
      }
    },
    {
      "cell_type": "markdown",
      "source": [
        "\n",
        "\n",
        "1. **Access Colab settings.**\n",
        "    * Go to Tools -> Settings to access Colab settings.\n",
        "    * Or, you can also click the wheel in the top corner.  \n",
        "\n",
        "2. **Turn off AI Assistance.**\n",
        "\n",
        "    Settings -> AI Assistance -> Hide generative AI features\n",
        "\n",
        "3. **Change Site settings.**\n",
        "\n",
        "    Settings -> Site -> Theme (light, dark, or adaptive)\n",
        "    \n",
        "    You can make your theme either light, dark, or adaptive.\n",
        "\n",
        "4. **Setup your Editor.**\n",
        "\n",
        "    Settings -> Editor\n",
        "    \n",
        "    You can setup your editor as you like. At a minimum, please turn on the following editor settings.\n",
        "    \n",
        "    * Show line numbers\n",
        "    * Indentation width in spaces: 4\n",
        "    * Show indentation guides\n",
        "    * Enable code folding in the editor    \n",
        "    * Enable code wrapping in the editor    \n",
        "    * Automatically close brackets and quotes in code cells\n",
        "    * Code diagnostics: Syntax and type checking\n",
        "\n",
        "\n"
      ],
      "metadata": {
        "id": "By-cJLLWBZ6N"
      }
    },
    {
      "cell_type": "markdown",
      "metadata": {
        "id": "jiCG1UqwLKYr"
      },
      "source": [
        "# 4 Why Python?\n",
        "\n",
        "* Python is an incredibly efficient language. Your programs will do more in few lines (or instructions) of code than many other languages would require.\n",
        "\n",
        "* Python's syntax will also help you write \"clean\" code. You code will be easier to read, easier to debug, and easier to extend and build upon compared to other languages.\n",
        "\n",
        "* People use Python for many purposes: to make games, build web applications, solve busines problems, and develop internal tools of all kinds of companies (e.g., Facebook, Google, Verizon, Pixar).\n",
        "\n",
        "* Python has a strong community, which includes diverse and welcoming group of people. Community is essential to programmers because programming is not a solitary pursuit.\n",
        "\n",
        "* Python is a great and fun language to learn!"
      ]
    },
    {
      "cell_type": "markdown",
      "metadata": {
        "id": "X6SggbVrNSB0"
      },
      "source": [
        "# 5 We are ready to start programming!"
      ]
    },
    {
      "cell_type": "markdown",
      "metadata": {
        "id": "Pr02_Zde8ysc"
      },
      "source": [
        "\n",
        "## 5.1 We'll start by taking it slow and easy.\n",
        "\n",
        "* We will take it slow and easy in the beginning by get acquainted and comfortable with the basics.\n",
        "\n",
        "* Following along in class is not enough. **You must type in the programs on your computer.**\n",
        "\n",
        "> * It’s the best way to see how a program works or executes. It’s how you learn to correct your mistakes (programming errors or bugs).\n",
        "\n",
        "> * Writing and reading code is the only way to learn how to program"
      ]
    },
    {
      "cell_type": "markdown",
      "metadata": {
        "id": "k6zLXQLK8c4Z"
      },
      "source": [
        "## 5.2 Be an explorer.\n",
        "\n",
        "* Since you are learning a new language, it is very important that you experiment with the material.\n",
        "\n",
        "* Be curious about trying different things.\n",
        "\n",
        "* Don’t be afraid to make a mistake or crash your computer. That’s how we learn best."
      ]
    },
    {
      "cell_type": "markdown",
      "metadata": {
        "id": "-qkbEezC9mbS"
      },
      "source": [
        "#6 Our first Python program.\n",
        "\n",
        "Let's start with using the `print` command to display program output.\n"
      ]
    },
    {
      "cell_type": "markdown",
      "metadata": {
        "id": "fV2jMZOVtc_-"
      },
      "source": [
        "Type the following Python instruction in the code cell that follows.\n",
        "\n",
        " ```python\n",
        " print(\"hello, world!\")\n",
        " ```\n"
      ]
    },
    {
      "cell_type": "code",
      "metadata": {
        "id": "xsBjb2AE9ykY"
      },
      "source": [],
      "execution_count": null,
      "outputs": []
    },
    {
      "cell_type": "markdown",
      "metadata": {
        "id": "3siG31YRvpJY"
      },
      "source": [
        "To execute the code in the above cell, select it with a click and then either press the play button to the left of the code, or use the keyboard shortcut \"Command/Ctrl+Enter\". To edit the code, just click the cell and start editing."
      ]
    },
    {
      "cell_type": "markdown",
      "metadata": {
        "id": "Hgn9Y4F-EcPM"
      },
      "source": [
        "# 7 Solve the following problems in Python."
      ]
    },
    {
      "cell_type": "markdown",
      "metadata": {
        "id": "V8c2TZX5FNJd"
      },
      "source": [
        "### (a) Write Python code to print `\"hello, apple\"` on a line by itself (line 1) followed by `\"hello, banana\"` on a separate line (line 2)."
      ]
    },
    {
      "cell_type": "code",
      "metadata": {
        "id": "ogt67EEwGQLt"
      },
      "source": [],
      "execution_count": null,
      "outputs": []
    },
    {
      "cell_type": "markdown",
      "metadata": {
        "id": "Hp6RhTQMFtP0"
      },
      "source": [
        "### (b) Write Python code to output or display the following shape.\n",
        "\n",
        "```\n",
        "********\n",
        "*      *\n",
        "********\n",
        "```"
      ]
    },
    {
      "cell_type": "code",
      "metadata": {
        "id": "XEkv8RzAFpLf"
      },
      "source": [],
      "execution_count": null,
      "outputs": []
    },
    {
      "cell_type": "markdown",
      "metadata": {
        "id": "wGlkj5khG2b6"
      },
      "source": [
        "### (c) Consider the following Python code.\n"
      ]
    },
    {
      "cell_type": "code",
      "metadata": {
        "id": "5t_VGvpmG5ri"
      },
      "source": [
        "print(\"*\")\n",
        "print(\"***\")\n",
        "print(\"*****\")\n",
        "print(\"*******\")\n",
        "print(\"*********\")\n",
        "print(\"***********\")\n",
        "print(\"*********\")\n",
        "print(\"*******\")\n",
        "print(\"*****\")\n",
        "print(\"***\")\n",
        "print(\"*\")"
      ],
      "execution_count": null,
      "outputs": []
    },
    {
      "cell_type": "markdown",
      "metadata": {
        "id": "r7Aa4LkJHzP_"
      },
      "source": [
        "Modify the above code to produce the diamond pattern below.\n",
        "\n",
        "```\n",
        "     *\n",
        "    ***\n",
        "   *****\n",
        "  *******\n",
        " *********\n",
        "***********\n",
        " *********\n",
        "  *******\n",
        "   *****\n",
        "    ***\n",
        "     *\n",
        "```"
      ]
    },
    {
      "cell_type": "markdown",
      "metadata": {
        "id": "Lin-Gnf2DKIU"
      },
      "source": [
        "# 8 Python as a Calculator\n",
        "\n",
        "\n"
      ]
    },
    {
      "cell_type": "markdown",
      "metadata": {
        "id": "osoDKaOrDU_f"
      },
      "source": [
        "## 8.1 Standard Math Operations\n",
        "\n",
        "Take a look at the standard math operations and their symbols that we will be using while coding.\n",
        "\n",
        "| operation        | symbol |\n",
        "|------------------|--------|\n",
        "| addition         | +      |\n",
        "| subtraction      | -      |\n",
        "| multiplication   | *      |\n",
        "| division         | /      |\n",
        "| integer division | //     |\n",
        "| exponentiation   | **     |\n",
        "| modulo/remainder | %      |\n"
      ]
    },
    {
      "cell_type": "markdown",
      "metadata": {
        "id": "3Jt79Hk76vWo"
      },
      "source": [
        "## 8.2 Solve the following problems in Python.\n",
        "\n",
        "You only need one line of code to solve each problem."
      ]
    },
    {
      "cell_type": "markdown",
      "metadata": {
        "id": "N8iiXi267CyD"
      },
      "source": [
        "### (a) Add the numbers 1, 2, 3, 4, and 5.\n",
        "\n",
        "*Note:* The one-line solution is given in the code cell below. Run the code to compute the result."
      ]
    },
    {
      "cell_type": "code",
      "metadata": {
        "id": "b9igRaC47KDO"
      },
      "source": [
        "1 + 2 + 3 + 4 + 5"
      ],
      "execution_count": null,
      "outputs": []
    },
    {
      "cell_type": "markdown",
      "metadata": {
        "id": "S2Ak42r17K6X"
      },
      "source": [
        "### (b) Multiply the numbers 1, 2, 3, 4, and 5."
      ]
    },
    {
      "cell_type": "code",
      "metadata": {
        "id": "ugtwJucG7QG4"
      },
      "source": [],
      "execution_count": null,
      "outputs": []
    },
    {
      "cell_type": "markdown",
      "metadata": {
        "id": "vyDYpElX7Qza"
      },
      "source": [
        "### (c) Compute 5 squared."
      ]
    },
    {
      "cell_type": "code",
      "metadata": {
        "id": "18UjtFNM7Tdt"
      },
      "source": [],
      "execution_count": null,
      "outputs": []
    },
    {
      "cell_type": "markdown",
      "metadata": {
        "id": "xYNe6jp-7T6i"
      },
      "source": [
        "### (d) Compute 3 raised to the fourth power."
      ]
    },
    {
      "cell_type": "code",
      "metadata": {
        "id": "bjUzsthC7W68"
      },
      "source": [],
      "execution_count": null,
      "outputs": []
    },
    {
      "cell_type": "markdown",
      "metadata": {
        "id": "8fQ9WCtQ7fyT"
      },
      "source": [
        "### (e) Compute 10 raised to the power 12."
      ]
    },
    {
      "cell_type": "code",
      "metadata": {
        "id": "H-QOU2Tv7kN_"
      },
      "source": [],
      "execution_count": null,
      "outputs": []
    },
    {
      "cell_type": "markdown",
      "metadata": {
        "id": "NzzsAx_57nBg"
      },
      "source": [
        "### (f) Compute 3 raised to the power 7 x 515."
      ]
    },
    {
      "cell_type": "code",
      "metadata": {
        "id": "p7VrFQ4176nE"
      },
      "source": [],
      "execution_count": null,
      "outputs": []
    },
    {
      "cell_type": "markdown",
      "metadata": {
        "id": "MesZExwQ77cm"
      },
      "source": [
        "### (g) Add parentheses to `4 - 2 * 3 + 4` to make 14."
      ]
    },
    {
      "cell_type": "code",
      "metadata": {
        "id": "XMedx7YF8Da7"
      },
      "source": [
        "(4 - 2) * (3 + 4)"
      ],
      "execution_count": null,
      "outputs": []
    },
    {
      "cell_type": "markdown",
      "metadata": {
        "id": "eznq9OYiqM0q"
      },
      "source": [
        "# 9 Miscellaneous Fun with Code Cells"
      ]
    },
    {
      "cell_type": "markdown",
      "metadata": {
        "id": "ldhgXumIwDQy"
      },
      "source": [
        "For each problem, please reflect on what the output means."
      ]
    },
    {
      "cell_type": "markdown",
      "metadata": {
        "id": "Q_7WNoqIq3ih"
      },
      "source": [
        "## 9.1 Type and run the following code in the provided code cell below.\n",
        "\n",
        "```\n",
        "import this\n",
        "```"
      ]
    },
    {
      "cell_type": "code",
      "metadata": {
        "id": "07GK-G2drShi",
        "colab": {
          "base_uri": "https://localhost:8080/"
        },
        "outputId": "b6b23ecb-da85-42a6-826b-6b1b6111ef5a"
      },
      "source": [
        "import this"
      ],
      "execution_count": null,
      "outputs": [
        {
          "output_type": "stream",
          "name": "stdout",
          "text": [
            "The Zen of Python, by Tim Peters\n",
            "\n",
            "Beautiful is better than ugly.\n",
            "Explicit is better than implicit.\n",
            "Simple is better than complex.\n",
            "Complex is better than complicated.\n",
            "Flat is better than nested.\n",
            "Sparse is better than dense.\n",
            "Readability counts.\n",
            "Special cases aren't special enough to break the rules.\n",
            "Although practicality beats purity.\n",
            "Errors should never pass silently.\n",
            "Unless explicitly silenced.\n",
            "In the face of ambiguity, refuse the temptation to guess.\n",
            "There should be one-- and preferably only one --obvious way to do it.\n",
            "Although that way may not be obvious at first unless you're Dutch.\n",
            "Now is better than never.\n",
            "Although never is often better than *right* now.\n",
            "If the implementation is hard to explain, it's a bad idea.\n",
            "If the implementation is easy to explain, it may be a good idea.\n",
            "Namespaces are one honking great idea -- let's do more of those!\n"
          ]
        }
      ]
    },
    {
      "cell_type": "markdown",
      "source": [
        "## 9.2 Run the following code."
      ],
      "metadata": {
        "id": "05T9ss2isLiR"
      }
    },
    {
      "cell_type": "markdown",
      "source": [
        "The code produces a scatter plot that shows the Gross Domestic Product (GDP) per capita on the x-axis and the life expectancy in years on the y-axis. GDP per capita is a country's GDP divided by its total population.\n",
        "\n",
        "The plot is interactive so feel free to scroll over the points on the plot for additional information."
      ],
      "metadata": {
        "id": "KrTSHTx00b8y"
      }
    },
    {
      "cell_type": "code",
      "source": [
        "import plotly.express as px\n",
        "df = px.data.gapminder()\n",
        "\n",
        "fig = px.scatter(df.query(\"year==2007\"), x=\"gdpPercap\", y=\"lifeExp\",\n",
        "\t         size=\"pop\", color=\"continent\",\n",
        "                 hover_name=\"country\", log_x=True, size_max=60)\n",
        "fig.show()"
      ],
      "metadata": {
        "id": "Au5Jj-aqrasT"
      },
      "execution_count": null,
      "outputs": []
    },
    {
      "cell_type": "markdown",
      "metadata": {
        "id": "gYLgK2Czyhyo"
      },
      "source": [
        "#10 More on Google Colababoratory\n",
        "* Overview of Colaboratory Features\n",
        "https://colab.research.google.com/notebooks/basic_features_overview.ipynb\n",
        "\n",
        "* Markdown Guide\n",
        "https://colab.research.google.com/notebooks/markdown_guide.ipynb\n",
        "\n"
      ]
    },
    {
      "cell_type": "markdown",
      "source": [
        "**Class notes:**\n",
        "\n",
        "\n",
        "/ - division e.g. 5 / 2 = 2.5\n",
        "\n",
        "// - integer division e.g. 5 // 2 = 2 只显示到小数点前一位\n",
        "\n",
        "remainder - % e.g. 5 % 2 = 1\n",
        "\n",
        "**varible 变量 has 4 different types：**\n",
        "1. integer 整数 int\n",
        "2. floats points (real numbers) - float e.g. 1.0 ; 2.5 ; 3.14\n",
        "3. string - str ; single quote is mostly used.\n",
        "You must use \"\" if 在内容里面有单引号\n",
        "e.g. \"It's a sunny day.\"\n",
        "同理，如果内容里有双引号，则要用\"\"\"\n",
        "4. boolean - bool True or Flase\n",
        "\n",
        "... (and more)\n",
        "\n",
        "Note 1: the number of a varible should be descriptive;\n",
        "\n",
        "don't use abstract names like \"x\"\n",
        "\n",
        "Note 2: EVERY varible has a data type.\n",
        "\n",
        "The data type is determined by the content on the right side assigned to the varible.\n",
        "\n",
        "**assignment statement**\n",
        "\n",
        "x = 10 is an assignment statement\n",
        "\n",
        "value 10 is assigned to the varible x\n"
      ],
      "metadata": {
        "id": "meo6OipI_pZS"
      }
    },
    {
      "cell_type": "code",
      "source": [
        "test1 = 2\n",
        "print(type(test1))\n",
        "test2 = 2.00\n",
        "print(type(test2))"
      ],
      "metadata": {
        "colab": {
          "base_uri": "https://localhost:8080/"
        },
        "id": "DIeaqCyaENKW",
        "outputId": "69771eeb-b413-44da-c512-2d32c3f09fd9"
      },
      "execution_count": null,
      "outputs": [
        {
          "output_type": "stream",
          "name": "stdout",
          "text": [
            "<class 'int'>\n",
            "<class 'float'>\n"
          ]
        }
      ]
    }
  ]
}
