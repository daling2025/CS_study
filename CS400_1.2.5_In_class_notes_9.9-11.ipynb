{
  "nbformat": 4,
  "nbformat_minor": 0,
  "metadata": {
    "colab": {
      "provenance": [],
      "include_colab_link": true
    },
    "kernelspec": {
      "name": "python3",
      "display_name": "Python 3"
    },
    "language_info": {
      "name": "python"
    }
  },
  "cells": [
    {
      "cell_type": "markdown",
      "metadata": {
        "id": "view-in-github",
        "colab_type": "text"
      },
      "source": [
        "<a href=\"https://colab.research.google.com/github/daling2025/CS_study/blob/main/CS400_%7C_9.9_11_class_notes_%7C_Copy_of_Worksheet2.ipynb\" target=\"_parent\"><img src=\"https://colab.research.google.com/assets/colab-badge.svg\" alt=\"Open In Colab\"/></a>"
      ]
    },
    {
      "cell_type": "markdown",
      "metadata": {
        "id": "XZ5ipU5F2lb8"
      },
      "source": [
        "# CS 400: Accelerated Fundamentals of Computing I\n",
        "\n",
        "## Worksheet #2\n",
        "\n",
        "### September 9, 2025\n",
        "\n",
        "\n"
      ]
    },
    {
      "cell_type": "markdown",
      "source": [
        "# $\\color{blue}{\\text {1. Please Read Before You Begin}}$"
      ],
      "metadata": {
        "id": "TiAiURcM-wi6"
      }
    },
    {
      "cell_type": "markdown",
      "source": [
        "## 1.1 Save a copy of this notebook."
      ],
      "metadata": {
        "id": "GT6bt-a1YfB6"
      }
    },
    {
      "cell_type": "markdown",
      "source": [
        "Save a copy of this notebook to your Google Drive so that your work will be saved. To do this, use the following command.\n",
        "\n",
        "* File -> Save a copy in Drive"
      ],
      "metadata": {
        "id": "87Q1sC8HYPFt"
      }
    },
    {
      "cell_type": "markdown",
      "source": [
        "##1.2 Decide on Group Roles"
      ],
      "metadata": {
        "id": "Qc7f5Gvsv6jZ"
      }
    },
    {
      "cell_type": "markdown",
      "source": [
        "Decide on the team's Facilitator and Presenter. All team members will be Recorders."
      ],
      "metadata": {
        "id": "pXi4FFri_f1L"
      }
    },
    {
      "cell_type": "markdown",
      "source": [
        "- A **Facilitator** keeps track of time and makes sure all group members are contributing. The **Facilitator** may also share their screen and/or ask team members to share their screen to discuss coding solutions.\n",
        "- A **Presenter** serves as the team representative when speaking to the instructor, TA, and other teams.\n",
        "- A **Recorder** records the results of this worksheet. For this worksheet, all team members will be writing code in Google Colab to solve the worksheet questions."
      ],
      "metadata": {
        "id": "TcnfR4gT_FRT"
      }
    },
    {
      "cell_type": "markdown",
      "source": [
        "## 1.3 Share What You've Learned with the Class"
      ],
      "metadata": {
        "id": "YH4voReZA8vj"
      }
    },
    {
      "cell_type": "markdown",
      "source": [
        "Use the following document to **share the top 3 things you've learned as a group**.\n",
        "\n",
        "* https://docs.google.com/presentation/d/14b7vdvXu5DVzGQ11w7HFGXGVmbnGPPwUCbDyFAc44G8/edit?usp=sharinge"
      ],
      "metadata": {
        "id": "rT6zVySRBAB-"
      }
    },
    {
      "cell_type": "markdown",
      "metadata": {
        "id": "pkva_V1_dUA1"
      },
      "source": [
        "# 2 Data Types"
      ]
    },
    {
      "cell_type": "markdown",
      "source": [
        "## Exercise 2.1 What is the data type of variable `a`?"
      ],
      "metadata": {
        "id": "QzQtScWcPbp9"
      }
    },
    {
      "cell_type": "markdown",
      "source": [
        "For the code below, the variable `a` is an *integer* or *int* since the left-hand side of the assignment statement is a whole number, which represents an integer."
      ],
      "metadata": {
        "id": "Kr5EGST6PgPS"
      }
    },
    {
      "cell_type": "code",
      "source": [
        "a = 9"
      ],
      "metadata": {
        "id": "xj40j7IiO9QB"
      },
      "execution_count": 7,
      "outputs": []
    },
    {
      "cell_type": "markdown",
      "source": [
        "You can check the data type of a variable by using the `type()` built-in function.\n",
        "\n",
        "**Note:** Make sure you run the code above (`python a = 9`) and  then run the code below (`type(a)`)."
      ],
      "metadata": {
        "id": "HuTLbaByQHv2"
      }
    },
    {
      "cell_type": "code",
      "source": [
        "type(a)"
      ],
      "metadata": {
        "id": "Y0_FoNrxQQ8_",
        "colab": {
          "base_uri": "https://localhost:8080/"
        },
        "outputId": "4a352d93-6442-483e-8b89-c007391c25d6"
      },
      "execution_count": 8,
      "outputs": [
        {
          "output_type": "execute_result",
          "data": {
            "text/plain": [
              "int"
            ]
          },
          "metadata": {},
          "execution_count": 8
        }
      ]
    },
    {
      "cell_type": "markdown",
      "source": [
        "## Exercise 2.2 What is the data type of variable `b`?"
      ],
      "metadata": {
        "id": "6OJ-mzfePKnO"
      }
    },
    {
      "cell_type": "code",
      "source": [],
      "metadata": {
        "id": "AxH34I53uH-c"
      },
      "execution_count": 5,
      "outputs": []
    },
    {
      "cell_type": "code",
      "source": [
        "b = 9.0"
      ],
      "metadata": {
        "id": "O6uhvT8xO-Ya"
      },
      "execution_count": 6,
      "outputs": []
    },
    {
      "cell_type": "markdown",
      "source": [
        "## Exercise 2.3 What is the data type of variable `c`?"
      ],
      "metadata": {
        "id": "hwYTeYusPO3f"
      }
    },
    {
      "cell_type": "code",
      "source": [
        "c = \"9.0\""
      ],
      "metadata": {
        "id": "nw-fnYFdO_rR"
      },
      "execution_count": null,
      "outputs": []
    },
    {
      "cell_type": "markdown",
      "source": [
        "## Exercise 2.4 What is the data type of variable `d`?"
      ],
      "metadata": {
        "id": "Di_FQYluPQEl"
      }
    },
    {
      "cell_type": "code",
      "source": [
        "d = False\n",
        "type(d)"
      ],
      "metadata": {
        "id": "26pox1rGPBtB",
        "colab": {
          "base_uri": "https://localhost:8080/"
        },
        "outputId": "6470ed0e-6f2a-4f38-d875-ae65d63fd3fb"
      },
      "execution_count": 15,
      "outputs": [
        {
          "output_type": "execute_result",
          "data": {
            "text/plain": [
              "bool"
            ]
          },
          "metadata": {},
          "execution_count": 15
        }
      ]
    },
    {
      "cell_type": "markdown",
      "source": [
        "## Exercise 2.5 What is the data type of variable `e`?"
      ],
      "metadata": {
        "id": "0JaekTZVPRjq"
      }
    },
    {
      "cell_type": "code",
      "source": [
        "e = 4 / 2\n",
        "type(e)"
      ],
      "metadata": {
        "id": "LYgAGRmyPDKR",
        "colab": {
          "base_uri": "https://localhost:8080/"
        },
        "outputId": "def214d8-9dc5-4151-b013-8af0c38c39e0"
      },
      "execution_count": 19,
      "outputs": [
        {
          "output_type": "execute_result",
          "data": {
            "text/plain": [
              "float"
            ]
          },
          "metadata": {},
          "execution_count": 19
        }
      ]
    },
    {
      "cell_type": "markdown",
      "source": [
        "## Exercise 2.6 What is the data type of variable `f`?"
      ],
      "metadata": {
        "id": "32rZm-0uPTRU"
      }
    },
    {
      "cell_type": "code",
      "source": [
        "f = 10 + 2.0\n",
        "type(f)"
      ],
      "metadata": {
        "id": "4WkJs4TUPE0F",
        "colab": {
          "base_uri": "https://localhost:8080/"
        },
        "outputId": "6bae2e89-d1ee-4ae2-818b-6086c52ae2db"
      },
      "execution_count": 18,
      "outputs": [
        {
          "output_type": "execute_result",
          "data": {
            "text/plain": [
              "float"
            ]
          },
          "metadata": {},
          "execution_count": 18
        }
      ]
    },
    {
      "cell_type": "markdown",
      "source": [
        "## Exercise 2.7 Reflect on what you have learned about variables and *data* types. In particular, what (if anything) did you find surprising?"
      ],
      "metadata": {
        "id": "DAPoRFG2Qx8E"
      }
    },
    {
      "cell_type": "markdown",
      "source": [
        "*Add your reflection here.*"
      ],
      "metadata": {
        "id": "7VHkjOM0RJgn"
      }
    },
    {
      "cell_type": "markdown",
      "metadata": {
        "id": "65_Y0U9fpKAb"
      },
      "source": [
        "# 3 Strings\n",
        "\n",
        "**Run the code below that assigns strings to the variable `fruit`.** You will not see any output.\n"
      ]
    },
    {
      "cell_type": "code",
      "source": [
        "fruit = 'grapefruit'"
      ],
      "metadata": {
        "id": "2m6_ghu4ogA2"
      },
      "execution_count": 20,
      "outputs": []
    },
    {
      "cell_type": "markdown",
      "source": [
        "In the following exercises, what is the output of the following statements? You can check your answer by creating a code cell and typing in the statement."
      ],
      "metadata": {
        "id": "mfoNhnVvRxoY"
      }
    },
    {
      "cell_type": "markdown",
      "source": [
        "## Exercise 3.1  *(Solve by hand first.)* What is the output of the following print statement?"
      ],
      "metadata": {
        "id": "-uJIPcOKSJ6Q"
      }
    },
    {
      "cell_type": "code",
      "source": [
        "print(fruit)"
      ],
      "metadata": {
        "id": "Ryebz_gsUqf9",
        "colab": {
          "base_uri": "https://localhost:8080/"
        },
        "outputId": "39ac27fb-2535-4763-eea8-639ead32f8c8"
      },
      "execution_count": 21,
      "outputs": [
        {
          "output_type": "stream",
          "name": "stdout",
          "text": [
            "grapefruit\n"
          ]
        }
      ]
    },
    {
      "cell_type": "markdown",
      "source": [
        "\n",
        "**Note:** Make sure you run the code block\n",
        "```python\n",
        "fruit = 'grapefruit'\n",
        "```\n",
        "at the top of this section (Section 3)."
      ],
      "metadata": {
        "id": "dzHPTFBEUipE"
      }
    },
    {
      "cell_type": "markdown",
      "source": [
        "## Exercise 3.2  *(Solve by hand first.)* What is the output of the following print statement?\n",
        "\n",
        "```python\n",
        "print(fruit[0])\n",
        "```"
      ],
      "metadata": {
        "id": "rd5ZFhioUgQJ"
      }
    },
    {
      "cell_type": "markdown",
      "source": [
        "Check your answer by typing `print(fruit[0])` in the code block below."
      ],
      "metadata": {
        "id": "RJog9bU71JQK"
      }
    },
    {
      "cell_type": "code",
      "source": [
        "print(fruit[0])"
      ],
      "metadata": {
        "id": "gCLlNImns1Fm",
        "colab": {
          "base_uri": "https://localhost:8080/"
        },
        "outputId": "0e8af24f-3f22-4e54-85cd-ef0b0625573a"
      },
      "execution_count": 22,
      "outputs": [
        {
          "output_type": "stream",
          "name": "stdout",
          "text": [
            "g\n"
          ]
        }
      ]
    },
    {
      "cell_type": "markdown",
      "source": [
        "## Exercise 3.3  *(Solve by hand first.)* What is the output of the following print statement?\n",
        "\n",
        "```python\n",
        "print(fruit[1])\n",
        "```"
      ],
      "metadata": {
        "id": "__T3AxCYUga2"
      }
    },
    {
      "cell_type": "markdown",
      "source": [
        "Check your answer by using the code block below."
      ],
      "metadata": {
        "id": "U73ldvpd1c1V"
      }
    },
    {
      "cell_type": "code",
      "source": [
        "print(fruit[1])"
      ],
      "metadata": {
        "id": "71UC4cOns1-2",
        "colab": {
          "base_uri": "https://localhost:8080/"
        },
        "outputId": "04321611-7985-4838-8baa-a1827953fe87"
      },
      "execution_count": 23,
      "outputs": [
        {
          "output_type": "stream",
          "name": "stdout",
          "text": [
            "r\n"
          ]
        }
      ]
    },
    {
      "cell_type": "markdown",
      "source": [
        "## Exercise 3.4  *(Solve by hand first.)* What is the output of the following print statement?\n",
        "\n",
        "```python\n",
        "print(fruit[4])\n",
        "```"
      ],
      "metadata": {
        "id": "kB9fuT8YUgcz"
      }
    },
    {
      "cell_type": "markdown",
      "source": [
        "Check your answer by using the code block below."
      ],
      "metadata": {
        "id": "XWoOWWoQ1tY9"
      }
    },
    {
      "cell_type": "code",
      "source": [
        "print(fruit[4])"
      ],
      "metadata": {
        "id": "dFy7BUCes-kp",
        "colab": {
          "base_uri": "https://localhost:8080/"
        },
        "outputId": "57d5248e-018b-4d9f-b986-d37c5cd4cf15"
      },
      "execution_count": 25,
      "outputs": [
        {
          "output_type": "stream",
          "name": "stdout",
          "text": [
            "e\n"
          ]
        }
      ]
    },
    {
      "cell_type": "markdown",
      "source": [
        "## Exercise 3.5  *(Solve by hand first.)* What is the output of the following print statement?\n",
        "\n",
        "```python\n",
        "print(fruit[-1])\n",
        "```"
      ],
      "metadata": {
        "id": "BsYI40PHUgfo"
      }
    },
    {
      "cell_type": "markdown",
      "source": [
        "Check your answer by using the code block below."
      ],
      "metadata": {
        "id": "aztRdMwA1uup"
      }
    },
    {
      "cell_type": "code",
      "source": [
        "print(fruit[-1])"
      ],
      "metadata": {
        "id": "uZ5yjfZXs_YJ",
        "colab": {
          "base_uri": "https://localhost:8080/"
        },
        "outputId": "28e64f15-5134-4f1d-fc6b-1f0ef7f1edab"
      },
      "execution_count": 26,
      "outputs": [
        {
          "output_type": "stream",
          "name": "stdout",
          "text": [
            "t\n"
          ]
        }
      ]
    },
    {
      "cell_type": "markdown",
      "source": [
        "## Exercise 3.6 *(Solve by hand first.)* What is the output of the following print statement?\n",
        "\n",
        "```python\n",
        "print(fruit[-3])\n",
        "```"
      ],
      "metadata": {
        "id": "qrMpahffWIIQ"
      }
    },
    {
      "cell_type": "markdown",
      "source": [
        "Check your answer by using the code block below."
      ],
      "metadata": {
        "id": "abcu9jR-1vzd"
      }
    },
    {
      "cell_type": "code",
      "source": [
        "print(fruit[-3])"
      ],
      "metadata": {
        "id": "qSp7-zAXtALL",
        "colab": {
          "base_uri": "https://localhost:8080/"
        },
        "outputId": "8f1d4717-f5e2-4372-90a5-88c58060bbd8"
      },
      "execution_count": 27,
      "outputs": [
        {
          "output_type": "stream",
          "name": "stdout",
          "text": [
            "u\n"
          ]
        }
      ]
    },
    {
      "cell_type": "markdown",
      "source": [
        "## Exercise 3.7 *(Solve by hand first.)* What is the output of the following print statement?\n",
        "\n",
        "```python\n",
        "print(fruit[0:4])\n",
        "```"
      ],
      "metadata": {
        "id": "2FY0TYbvUgiR"
      }
    },
    {
      "cell_type": "markdown",
      "source": [
        "Check your answer by using the code block below."
      ],
      "metadata": {
        "id": "Bc3r1zvr1w2W"
      }
    },
    {
      "cell_type": "code",
      "source": [
        "print(fruit[0:4])"
      ],
      "metadata": {
        "id": "J-yomWIatA3d",
        "colab": {
          "base_uri": "https://localhost:8080/"
        },
        "outputId": "ae673b7d-4749-4de6-a4c9-42f3835d1e4f"
      },
      "execution_count": 28,
      "outputs": [
        {
          "output_type": "stream",
          "name": "stdout",
          "text": [
            "grap\n"
          ]
        }
      ]
    },
    {
      "cell_type": "markdown",
      "source": [
        "## Exercise 3.8 *(Solve by hand first.)* What is the output of the following print statement?\n",
        "\n",
        "\n",
        "```python\n",
        "print(fruit[:4])\n",
        "```"
      ],
      "metadata": {
        "id": "sMXhHjkNUgkV"
      }
    },
    {
      "cell_type": "markdown",
      "source": [
        "Check your answer by using the code block below."
      ],
      "metadata": {
        "id": "STJ76age1xxN"
      }
    },
    {
      "cell_type": "code",
      "source": [
        "print(fruit[:4])"
      ],
      "metadata": {
        "id": "qZDQhQSGtBcc",
        "colab": {
          "base_uri": "https://localhost:8080/"
        },
        "outputId": "2ff43eaa-a9e9-41f4-d09a-1a7ff9716a57"
      },
      "execution_count": 29,
      "outputs": [
        {
          "output_type": "stream",
          "name": "stdout",
          "text": [
            "grap\n"
          ]
        }
      ]
    },
    {
      "cell_type": "markdown",
      "source": [
        "## Exercise 3.9 *(Solve by hand first.)* What is the output of the following print statement?\n",
        "\n",
        "```python\n",
        "print(fruit[1:5])\n",
        "```"
      ],
      "metadata": {
        "id": "wluYptL6VxmK"
      }
    },
    {
      "cell_type": "markdown",
      "source": [
        "Check your answer by using the code block below."
      ],
      "metadata": {
        "id": "jv6hLLCq1ys5"
      }
    },
    {
      "cell_type": "code",
      "source": [
        "print(fruit[1:5])"
      ],
      "metadata": {
        "id": "faEqhUMitCIt",
        "colab": {
          "base_uri": "https://localhost:8080/"
        },
        "outputId": "ab7c76ee-bde9-483e-bb02-be33d1d2d4a2"
      },
      "execution_count": 30,
      "outputs": [
        {
          "output_type": "stream",
          "name": "stdout",
          "text": [
            "rape\n"
          ]
        }
      ]
    },
    {
      "cell_type": "markdown",
      "source": [
        "## Exercise 3.10 *(Solve by hand first.)* What is the output of the following print statement?\n",
        "\n",
        "```python\n",
        "print(fruit[2:])\n",
        "```"
      ],
      "metadata": {
        "id": "EG_yGZLhYbok"
      }
    },
    {
      "cell_type": "markdown",
      "source": [
        "Check your answer by using the code block below."
      ],
      "metadata": {
        "id": "n9PwW0ry1zoD"
      }
    },
    {
      "cell_type": "code",
      "source": [
        "print(fruit[2:])"
      ],
      "metadata": {
        "id": "aNy2uVbktMIC",
        "colab": {
          "base_uri": "https://localhost:8080/"
        },
        "outputId": "a563af30-f149-4f57-ed21-caab960571c6"
      },
      "execution_count": 31,
      "outputs": [
        {
          "output_type": "stream",
          "name": "stdout",
          "text": [
            "apefruit\n"
          ]
        }
      ]
    },
    {
      "cell_type": "markdown",
      "source": [
        "## Exercise 3.11 *(Solve by hand first.)* What is the output of the following print statement?\n",
        "\n",
        "```python\n",
        "print(fruit[1:8:2])\n",
        "```"
      ],
      "metadata": {
        "id": "VX1uSfbOelik"
      }
    },
    {
      "cell_type": "markdown",
      "source": [
        "Check your answer by using the code block below."
      ],
      "metadata": {
        "id": "7be_d30M10ny"
      }
    },
    {
      "cell_type": "code",
      "source": [
        "print(fruit[1:8:2])"
      ],
      "metadata": {
        "id": "03bwMGnTtMvW",
        "colab": {
          "base_uri": "https://localhost:8080/"
        },
        "outputId": "35a7a30c-24ea-4ada-b964-f385bba9ad80"
      },
      "execution_count": 32,
      "outputs": [
        {
          "output_type": "stream",
          "name": "stdout",
          "text": [
            "rpfu\n"
          ]
        }
      ]
    },
    {
      "cell_type": "markdown",
      "source": [
        "## Exercise 3.12 *(Solve by hand first.)* What is the output of the following print statement?\n",
        "\n",
        "```python\n",
        "print(fruit[1::3])\n",
        "```"
      ],
      "metadata": {
        "id": "owJ4zECFVxpT"
      }
    },
    {
      "cell_type": "markdown",
      "source": [
        "Check your answer by using the code block below."
      ],
      "metadata": {
        "id": "-qc7rOxV11ou"
      }
    },
    {
      "cell_type": "code",
      "source": [
        "print(fruit[1::3])"
      ],
      "metadata": {
        "id": "Yj0H_-mTtNRv",
        "colab": {
          "base_uri": "https://localhost:8080/"
        },
        "outputId": "0cf1cee9-4f7a-4576-c083-4212720ee0d4"
      },
      "execution_count": 33,
      "outputs": [
        {
          "output_type": "stream",
          "name": "stdout",
          "text": [
            "reu\n"
          ]
        }
      ]
    },
    {
      "cell_type": "markdown",
      "source": [
        "## Exercise 3.13 *(Solve by hand first.)* What is the output of the following print statement?\n",
        "\n",
        "```python\n",
        "print(fruit[::-1])\n",
        "```"
      ],
      "metadata": {
        "id": "WqnedKFGfBVx"
      }
    },
    {
      "cell_type": "markdown",
      "source": [
        "Check your answer by using the code block below."
      ],
      "metadata": {
        "id": "Qh-DY0_m12x0"
      }
    },
    {
      "cell_type": "code",
      "source": [
        "print(fruit[::-1])"
      ],
      "metadata": {
        "id": "Ob-YMIfgtOBH",
        "colab": {
          "base_uri": "https://localhost:8080/"
        },
        "outputId": "e1d635fb-71aa-45bb-c28c-bfbef3214a55"
      },
      "execution_count": 34,
      "outputs": [
        {
          "output_type": "stream",
          "name": "stdout",
          "text": [
            "tiurfeparg\n"
          ]
        }
      ]
    },
    {
      "cell_type": "markdown",
      "source": [
        "## Exercise 3.14 Reflect on what you have learned about strings. In particular, what  did you find surprising?\n"
      ],
      "metadata": {
        "id": "xidUNBrBWqMn"
      }
    },
    {
      "cell_type": "markdown",
      "source": [
        "*Add your reflection here.*"
      ],
      "metadata": {
        "id": "26krTuHCYz7k"
      }
    },
    {
      "cell_type": "markdown",
      "source": [
        "# 4 More Practice with Strings\n",
        "\n",
        "**Run the code below that assigns strings to the variables `color`.**"
      ],
      "metadata": {
        "id": "P-jADaW5URSk"
      }
    },
    {
      "cell_type": "code",
      "source": [
        "color = 'orange'"
      ],
      "metadata": {
        "id": "2DukMF6VZavv"
      },
      "execution_count": 35,
      "outputs": []
    },
    {
      "cell_type": "markdown",
      "source": [
        "## Exercise 4.1 *(Solve by hand first.)* What is the output of the following print statement?\n",
        "\n",
        "```python\n",
        "print(color[0])\n",
        "```"
      ],
      "metadata": {
        "id": "8HqeuskKZ4pL"
      }
    },
    {
      "cell_type": "markdown",
      "source": [
        "\n",
        "**Note:** Make sure you run the code block\n",
        "```python\n",
        "color = 'orange'\n",
        "```\n",
        "at the top of this section (Section 4)."
      ],
      "metadata": {
        "id": "oSiz6LRs33dS"
      }
    },
    {
      "cell_type": "markdown",
      "source": [
        "Check your answer by using the code block below."
      ],
      "metadata": {
        "id": "YesIc-hh2Fgw"
      }
    },
    {
      "cell_type": "code",
      "source": [
        "color = 'orange'"
      ],
      "metadata": {
        "id": "6MHRhJc2tTWg"
      },
      "execution_count": 36,
      "outputs": []
    },
    {
      "cell_type": "markdown",
      "source": [
        "## Exercise 4.2 *(Solve by hand first.)* What is the output of the following print statement?\n",
        "\n",
        "```python\n",
        "print(color[1:3])\n",
        "```"
      ],
      "metadata": {
        "id": "PYtStBvcaGKW"
      }
    },
    {
      "cell_type": "markdown",
      "source": [
        "Check your answer by using the code block below."
      ],
      "metadata": {
        "id": "Bp1B4jXx2N8U"
      }
    },
    {
      "cell_type": "code",
      "source": [
        "print(color[1:3])"
      ],
      "metadata": {
        "id": "qQk6KZh5tT2U",
        "colab": {
          "base_uri": "https://localhost:8080/"
        },
        "outputId": "17e5d079-826f-4d15-b559-6c305f82fbf7"
      },
      "execution_count": 37,
      "outputs": [
        {
          "output_type": "stream",
          "name": "stdout",
          "text": [
            "ra\n"
          ]
        }
      ]
    },
    {
      "cell_type": "markdown",
      "source": [
        "## Exercise 4.3 *(Solve by hand first.)* What is the output of the following print statement?\n",
        "\n",
        "```python\n",
        "print(color[1:3] + color[2:5])\n",
        "```"
      ],
      "metadata": {
        "id": "UZQKCXFnaGW4"
      }
    },
    {
      "cell_type": "markdown",
      "source": [
        "Check your answer by using the code block below."
      ],
      "metadata": {
        "id": "oh4QQKMg2PIq"
      }
    },
    {
      "cell_type": "code",
      "source": [
        "print(color[1:3] + color[2:5])"
      ],
      "metadata": {
        "id": "80kOsh2stURJ",
        "colab": {
          "base_uri": "https://localhost:8080/"
        },
        "outputId": "8294d953-4ff3-427e-e4ec-6aa22bec29ea"
      },
      "execution_count": 38,
      "outputs": [
        {
          "output_type": "stream",
          "name": "stdout",
          "text": [
            "raang\n"
          ]
        }
      ]
    },
    {
      "cell_type": "markdown",
      "source": [
        "## Exercise 4.4 *(Solve by hand first.)* What is the output of the following print statement?\n",
        "\n",
        "```python\n",
        "print(color[:2] + color[::-1])\n",
        "```"
      ],
      "metadata": {
        "id": "6y0ZuFzSaGZr"
      }
    },
    {
      "cell_type": "markdown",
      "source": [
        "Check your answer by using the code block below."
      ],
      "metadata": {
        "id": "MAybt6T52QxD"
      }
    },
    {
      "cell_type": "code",
      "source": [
        "print(color[:2] + color[::-1])"
      ],
      "metadata": {
        "id": "OiSSC8V7tUvX",
        "colab": {
          "base_uri": "https://localhost:8080/"
        },
        "outputId": "14ed7682-12ee-4b65-a624-9034182bcdf5"
      },
      "execution_count": 39,
      "outputs": [
        {
          "output_type": "stream",
          "name": "stdout",
          "text": [
            "oregnaro\n"
          ]
        }
      ]
    },
    {
      "cell_type": "markdown",
      "source": [
        "# 5 It's a Mystery!"
      ],
      "metadata": {
        "id": "29KvkRMEahTW"
      }
    },
    {
      "cell_type": "markdown",
      "source": [
        "Run the following code.\n",
        "\n",
        "**Note:** There will be no output produced."
      ],
      "metadata": {
        "id": "dyORt_R1a7Hx"
      }
    },
    {
      "cell_type": "code",
      "source": [
        "def mystery(x):\n",
        "    return x * 5"
      ],
      "metadata": {
        "id": "4veVFkjeasT2"
      },
      "execution_count": 40,
      "outputs": []
    },
    {
      "cell_type": "markdown",
      "source": [
        "## Exercise 5.1: Run the following code. Explain the output that is produced.\n",
        "\n",
        "*Note:* Make sure you have run the mystery code above at the top of this section (Section 5)."
      ],
      "metadata": {
        "id": "Nm7WpqZta5a5"
      }
    },
    {
      "cell_type": "code",
      "source": [
        "mystery(3)"
      ],
      "metadata": {
        "id": "ygvQaVhdbOJ-",
        "colab": {
          "base_uri": "https://localhost:8080/"
        },
        "outputId": "d3fd333f-00e4-418f-d375-e2c5d6a69184"
      },
      "execution_count": 41,
      "outputs": [
        {
          "output_type": "execute_result",
          "data": {
            "text/plain": [
              "15"
            ]
          },
          "metadata": {},
          "execution_count": 41
        }
      ]
    },
    {
      "cell_type": "markdown",
      "source": [
        "## Exercise 5.2: Run the following code. Explain the output that is produced."
      ],
      "metadata": {
        "id": "5hmEQ_0Pbb1_"
      }
    },
    {
      "cell_type": "code",
      "source": [
        "mystery(20)"
      ],
      "metadata": {
        "id": "n-RmIaXNbfAz",
        "colab": {
          "base_uri": "https://localhost:8080/"
        },
        "outputId": "b5969ae7-0b20-4a84-ace3-0ffb44fbc909"
      },
      "execution_count": 42,
      "outputs": [
        {
          "output_type": "execute_result",
          "data": {
            "text/plain": [
              "100"
            ]
          },
          "metadata": {},
          "execution_count": 42
        }
      ]
    },
    {
      "cell_type": "markdown",
      "source": [
        "## Exercise 5.3: Run the following code. Explain the output that is produced."
      ],
      "metadata": {
        "id": "1hCHB7djbqiQ"
      }
    },
    {
      "cell_type": "code",
      "source": [
        "mystery('a')"
      ],
      "metadata": {
        "id": "wNju-WJHbuxV",
        "colab": {
          "base_uri": "https://localhost:8080/",
          "height": 35
        },
        "outputId": "fe809122-d1c0-4d7f-a92e-e00399e228c1"
      },
      "execution_count": 43,
      "outputs": [
        {
          "output_type": "execute_result",
          "data": {
            "text/plain": [
              "'aaaaa'"
            ],
            "application/vnd.google.colaboratory.intrinsic+json": {
              "type": "string"
            }
          },
          "metadata": {},
          "execution_count": 43
        }
      ]
    },
    {
      "cell_type": "markdown",
      "source": [
        "## Exercise 5.4: Run the following code. Explain the output that is produced."
      ],
      "metadata": {
        "id": "q34aGtSZbz1p"
      }
    },
    {
      "cell_type": "code",
      "source": [
        "mystery('blue')"
      ],
      "metadata": {
        "id": "S833QE8Fb11H",
        "colab": {
          "base_uri": "https://localhost:8080/",
          "height": 35
        },
        "outputId": "eddd4d54-57ad-4b5c-ea33-99da7b637dff"
      },
      "execution_count": 44,
      "outputs": [
        {
          "output_type": "execute_result",
          "data": {
            "text/plain": [
              "'blueblueblueblueblue'"
            ],
            "application/vnd.google.colaboratory.intrinsic+json": {
              "type": "string"
            }
          },
          "metadata": {},
          "execution_count": 44
        }
      ]
    },
    {
      "cell_type": "code",
      "source": [
        "str1 = \"grapefruit\"\n",
        "str2 = \"drink\"\n",
        "str1 + str2"
      ],
      "metadata": {
        "colab": {
          "base_uri": "https://localhost:8080/",
          "height": 35
        },
        "id": "RZ_J7YafzRhf",
        "outputId": "b2c3308c-bf50-448e-fed7-bbd505809ffc"
      },
      "execution_count": 46,
      "outputs": [
        {
          "output_type": "execute_result",
          "data": {
            "text/plain": [
              "'grapefruitdrink'"
            ],
            "application/vnd.google.colaboratory.intrinsic+json": {
              "type": "string"
            }
          },
          "metadata": {},
          "execution_count": 46
        }
      ]
    },
    {
      "cell_type": "markdown",
      "source": [
        "## Exercise 5.5: Let's revisit Exercises 5.1 - 5.4.\n",
        "\n",
        "\n"
      ],
      "metadata": {
        "id": "pS4q0SFmcKmV"
      }
    },
    {
      "cell_type": "markdown",
      "source": [
        "### Exercise 5.5.1 What is the data type of the output of Exercise 5.1?"
      ],
      "metadata": {
        "id": "Iv0Ok_3Ocif4"
      }
    },
    {
      "cell_type": "markdown",
      "source": [
        "### Exercise 5.5.1 What is the data type of the output of Exercise 5.2?"
      ],
      "metadata": {
        "id": "1Fyr9y_acqw3"
      }
    },
    {
      "cell_type": "markdown",
      "source": [
        "### Exercise 5.5.1 What is the data type of the output of Exercise 5.3?"
      ],
      "metadata": {
        "id": "EgzNFt5_cq5H"
      }
    },
    {
      "cell_type": "markdown",
      "source": [
        "### Exercise 5.5.1 What is the data type of the output of Exercise 5.4?"
      ],
      "metadata": {
        "id": "kWK85KMNcq_m"
      }
    },
    {
      "cell_type": "markdown",
      "metadata": {
        "id": "AbQ7w-dxwV2m"
      },
      "source": [
        "## Exercise 5.6 What observations and insights do you have regarding the mystery function and data types?"
      ]
    },
    {
      "cell_type": "markdown",
      "metadata": {
        "id": "ndfWeGbOtwWG"
      },
      "source": [
        "#6 Consider the following Python code."
      ]
    },
    {
      "cell_type": "code",
      "metadata": {
        "id": "DxgF4A4qt2Ll",
        "colab": {
          "base_uri": "https://localhost:8080/",
          "height": 162
        },
        "outputId": "96178238-1848-4c61-8da3-ee234c40415c"
      },
      "source": [
        "color = 'blue'\n",
        "color[3] = 'r'"
      ],
      "execution_count": 45,
      "outputs": [
        {
          "output_type": "error",
          "ename": "TypeError",
          "evalue": "'str' object does not support item assignment",
          "traceback": [
            "\u001b[0;31m---------------------------------------------------------------------------\u001b[0m",
            "\u001b[0;31mTypeError\u001b[0m                                 Traceback (most recent call last)",
            "\u001b[0;32m/tmp/ipython-input-3738386933.py\u001b[0m in \u001b[0;36m<cell line: 0>\u001b[0;34m()\u001b[0m\n\u001b[1;32m      1\u001b[0m \u001b[0mcolor\u001b[0m \u001b[0;34m=\u001b[0m \u001b[0;34m'blue'\u001b[0m\u001b[0;34m\u001b[0m\u001b[0;34m\u001b[0m\u001b[0m\n\u001b[0;32m----> 2\u001b[0;31m \u001b[0mcolor\u001b[0m\u001b[0;34m[\u001b[0m\u001b[0;36m3\u001b[0m\u001b[0;34m]\u001b[0m \u001b[0;34m=\u001b[0m \u001b[0;34m'r'\u001b[0m\u001b[0;34m\u001b[0m\u001b[0;34m\u001b[0m\u001b[0m\n\u001b[0m",
            "\u001b[0;31mTypeError\u001b[0m: 'str' object does not support item assignment"
          ]
        }
      ]
    },
    {
      "cell_type": "markdown",
      "metadata": {
        "id": "UhOlqZyNuYbb"
      },
      "source": [
        "Explain what additional information the above code tells us about strings."
      ]
    },
    {
      "cell_type": "markdown",
      "source": [
        "# 7 Share What You've Learned with the Class\n"
      ],
      "metadata": {
        "id": "Xcb8nL5JFdcM"
      }
    },
    {
      "cell_type": "markdown",
      "source": [
        "Please share the top 3 things you have learned in your group with the class in this [Google Slides presentation](https://docs.google.com/presentation/d/14b7vdvXu5DVzGQ11w7HFGXGVmbnGPPwUCbDyFAc44G8/edit?usp=sharing)."
      ],
      "metadata": {
        "id": "A3nux22LFxXj"
      }
    },
    {
      "cell_type": "markdown",
      "source": [
        "**9.9 Tuesday Class Notes**\n",
        "1. data types: string, integer, float, boolean。\n",
        "\n",
        "只有strings可拆分，用[index]去pick你想work on的内容，其他的三类data type都不可拆分。\n",
        "\n",
        "如果要拆分，要先转换成string。\n",
        "\n",
        "2. [:]包左不包右;creator's decision\n",
        "\n",
        "3. color = 'blue'\n",
        "color[3] = 'r'\n",
        "--error--\n",
        "\n",
        "- 不可以specify一个index并进行赋值\n",
        "\n",
        "4. Don't have any presumptions in mind when learning something new! e.g. don't assume varible[index] works the same as lists.\n",
        "5.\n",
        " str1 = \"grapefruit\"\n",
        "\n",
        " str2 = \"drink\"\n",
        "\n",
        " str1 + str2 = \"grapefruitdrink\"\n",
        "\n",
        " num = 3\n",
        "\n",
        " str1 + num -- error\n",
        "\n",
        "只有相同的data type可以相加\n",
        "\n",
        "6. str1 = \"grapefruit\"\n",
        "\n",
        "str1 * 2 -- ok -- polymorphism 多态性\n",
        "\n",
        " polymorphism 多态性: The asterisk operator will change its behavior based on the data type.\n",
        "\n"
      ],
      "metadata": {
        "id": "f7M3aop4vFQD"
      }
    }
  ]
}
